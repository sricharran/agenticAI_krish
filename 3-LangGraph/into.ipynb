{
 "cells": [
  {
   "cell_type": "code",
   "execution_count": 1,
   "id": "840d2614",
   "metadata": {},
   "outputs": [
    {
     "data": {
      "text/plain": [
       "True"
      ]
     },
     "execution_count": 1,
     "metadata": {},
     "output_type": "execute_result"
    }
   ],
   "source": [
    "import os\n",
    "from dotenv import load_dotenv\n",
    "load_dotenv()"
   ]
  },
  {
   "cell_type": "code",
   "execution_count": 2,
   "id": "d3003486",
   "metadata": {},
   "outputs": [],
   "source": [
    "os.environ[\"GROQ_API_KEY\"]=os.getenv(\"GROQ_API_KEY\")\n",
    "\n",
    "## Langsmith Tracking And Tracing\n",
    "os.environ[\"LANGCHAIN_API_KEY\"]=os.getenv(\"LANGCHAIN_API_KEY\")\n",
    "os.environ[\"LANGCHAIN_PROJECT\"]=os.getenv(\"LANGCHAIN_PROJECT\")\n",
    "os.environ[\"PINECONE_API_KEY\"]=os.getenv(\"PINECONE_API_KEY\")\n",
    "os.environ[\"LANGCHAIN_TRACING_V2\"]=\"true\""
   ]
  },
  {
   "cell_type": "code",
   "execution_count": 3,
   "id": "a3b3d4ee",
   "metadata": {},
   "outputs": [],
   "source": [
    "os.environ['HF_TOKEN']=os.getenv(\"HF_TOKEN\")"
   ]
  },
  {
   "cell_type": "code",
   "execution_count": 4,
   "id": "c95a2e13",
   "metadata": {},
   "outputs": [],
   "source": [
    "FILE_PATH = r\"C:\\Users\\srich\\Downloads\\TA_wrkbk.pdf\""
   ]
  },
  {
   "cell_type": "code",
   "execution_count": 5,
   "id": "97562558",
   "metadata": {},
   "outputs": [],
   "source": [
    "from langchain.document_loaders import PyPDFLoader\n",
    "from langchain.text_splitter import RecursiveCharacterTextSplitter"
   ]
  },
  {
   "cell_type": "code",
   "execution_count": 6,
   "id": "ded48982",
   "metadata": {},
   "outputs": [],
   "source": [
    "loader = PyPDFLoader(FILE_PATH)\n",
    "docs = loader.load()"
   ]
  },
  {
   "cell_type": "code",
   "execution_count": 7,
   "id": "0281f820",
   "metadata": {},
   "outputs": [
    {
     "data": {
      "text/plain": [
       "172"
      ]
     },
     "execution_count": 7,
     "metadata": {},
     "output_type": "execute_result"
    }
   ],
   "source": [
    "len(docs)"
   ]
  },
  {
   "cell_type": "code",
   "execution_count": 8,
   "id": "011c2a50",
   "metadata": {},
   "outputs": [],
   "source": [
    "splitter = RecursiveCharacterTextSplitter(chunk_size=1000,chunk_overlap=200)\n",
    "split_docs = splitter.split_documents(docs)"
   ]
  },
  {
   "cell_type": "code",
   "execution_count": 9,
   "id": "0c7fb751",
   "metadata": {},
   "outputs": [],
   "source": [
    "from uuid import uuid4\n",
    "uuids = [str(uuid4()) for _ in range(len(split_docs))]"
   ]
  },
  {
   "cell_type": "code",
   "execution_count": 10,
   "id": "3d25df36",
   "metadata": {},
   "outputs": [
    {
     "name": "stderr",
     "output_type": "stream",
     "text": [
      "d:\\Agentic_AI\\venv\\Lib\\site-packages\\tqdm\\auto.py:21: TqdmWarning: IProgress not found. Please update jupyter and ipywidgets. See https://ipywidgets.readthedocs.io/en/stable/user_install.html\n",
      "  from .autonotebook import tqdm as notebook_tqdm\n"
     ]
    }
   ],
   "source": [
    "from langchain_huggingface import HuggingFaceEmbeddings\n",
    "embedding = HuggingFaceEmbeddings(model_name=\"all-mpnet-base-v2\")"
   ]
  },
  {
   "cell_type": "code",
   "execution_count": 11,
   "id": "2d2ec938",
   "metadata": {},
   "outputs": [],
   "source": [
    "from pinecone import Pinecone\n",
    "pinecone_api_key = os.environ.get(\"PINECONE_API_KEY\")\n",
    "pc = Pinecone(api_key=pinecone_api_key)"
   ]
  },
  {
   "cell_type": "code",
   "execution_count": 12,
   "id": "a99bed07",
   "metadata": {},
   "outputs": [],
   "source": [
    "index_name = 'nism-rag'\n",
    "index=pc.Index(index_name)"
   ]
  },
  {
   "cell_type": "code",
   "execution_count": 13,
   "id": "63944b00",
   "metadata": {},
   "outputs": [],
   "source": [
    "from langchain_pinecone import PineconeVectorStore\n",
    "vectorstore = PineconeVectorStore(index=index,embedding=embedding)"
   ]
  },
  {
   "cell_type": "code",
   "execution_count": 14,
   "id": "a6a8d8ec",
   "metadata": {},
   "outputs": [
    {
     "name": "stdout",
     "output_type": "stream",
     "text": [
      "Valid docs: 383, Oversized docs: 0\n",
      "Uploaded batch 1\n",
      "Uploaded batch 2\n",
      "Uploaded batch 3\n",
      "Uploaded batch 4\n",
      "Uploaded batch 5\n",
      "Uploaded batch 6\n",
      "Uploaded batch 7\n",
      "Uploaded batch 8\n"
     ]
    }
   ],
   "source": [
    "MAX_BYTES = 4194304  # 4 MiB\n",
    "\n",
    "def is_valid_doc(doc):\n",
    "    size = len(doc.page_content.encode('utf-8'))\n",
    "    return size <= MAX_BYTES\n",
    "\n",
    "# Filter out oversized documents\n",
    "valid_docs = [doc for doc in split_docs if is_valid_doc(doc)]\n",
    "oversized_docs = [doc for doc in split_docs if not is_valid_doc(doc)]\n",
    "\n",
    "print(f\"Valid docs: {len(valid_docs)}, Oversized docs: {len(oversized_docs)}\")\n",
    "\n",
    "# If you have UUIDs, sync them with the filtered docs\n",
    "valid_ids = [uuid for doc, uuid in zip(split_docs, uuids) if is_valid_doc(doc)]\n",
    "\n",
    "BATCH_SIZE = 50  # try 20–50 if the problem persists\n",
    "\n",
    "for i in range(0, len(valid_docs), BATCH_SIZE):\n",
    "    batch_docs = valid_docs[i:i + BATCH_SIZE]\n",
    "    batch_ids = valid_ids[i:i + BATCH_SIZE]\n",
    "    try:\n",
    "        vectorstore.add_documents(documents=batch_docs, ids=batch_ids)\n",
    "        print(f\"Uploaded batch {i // BATCH_SIZE + 1}\")\n",
    "    except Exception as e:\n",
    "        print(f\"Failed to upload batch {i // BATCH_SIZE + 1}: {e}\")\n",
    "\n"
   ]
  },
  {
   "cell_type": "code",
   "execution_count": 15,
   "id": "8311fb6e",
   "metadata": {},
   "outputs": [],
   "source": [
    "retriever = vectorstore.as_retriever(\n",
    "    search_type=\"similarity\", \n",
    "    search_kwargs={\"k\": 5}      \n",
    ")\n"
   ]
  },
  {
   "cell_type": "code",
   "execution_count": 26,
   "id": "bf916e6b",
   "metadata": {},
   "outputs": [],
   "source": [
    "def format_docs(docs):\n",
    "    return \"\\n\\n\".join(doc.page_content for doc in docs)"
   ]
  },
  {
   "cell_type": "code",
   "execution_count": 27,
   "id": "aaa45bfe",
   "metadata": {},
   "outputs": [],
   "source": [
    "result = retriever.invoke(\"what is hammer pattern?\")"
   ]
  },
  {
   "cell_type": "code",
   "execution_count": null,
   "id": "53c249ca",
   "metadata": {},
   "outputs": [],
   "source": []
  },
  {
   "cell_type": "code",
   "execution_count": 82,
   "id": "4c9b064a",
   "metadata": {},
   "outputs": [],
   "source": [
    "from langchain_google_genai import ChatGoogleGenerativeAI\n",
    "model=ChatGoogleGenerativeAI(model='gemini-1.5-flash')"
   ]
  },
  {
   "cell_type": "code",
   "execution_count": 83,
   "id": "cbf37e42",
   "metadata": {},
   "outputs": [],
   "source": [
    "import operator\n",
    "from typing import List\n",
    "from pydantic import BaseModel,Field\n",
    "from langchain.prompts import PromptTemplate\n",
    "from typing import TypedDict,Annotated,Sequence\n",
    "from langchain_core.messages import BaseMessage\n",
    "from langchain_core.output_parsers import StrOutputParser\n",
    "from langchain_core.runnables import RunnablePassthrough"
   ]
  },
  {
   "cell_type": "code",
   "execution_count": 84,
   "id": "fa6aaf9a",
   "metadata": {},
   "outputs": [],
   "source": [
    "class TopicSelection(BaseModel):\n",
    "    topic: str = Field(description=\"selected topic\")\n",
    "    reason: str = Field(description=\"Reason behind topic selection\")"
   ]
  },
  {
   "cell_type": "code",
   "execution_count": 85,
   "id": "639d8d97",
   "metadata": {},
   "outputs": [
    {
     "data": {
      "text/plain": [
       "'The output should be formatted as a JSON instance that conforms to the JSON schema below.\\n\\nAs an example, for the schema {\"properties\": {\"foo\": {\"title\": \"Foo\", \"description\": \"a list of strings\", \"type\": \"array\", \"items\": {\"type\": \"string\"}}}, \"required\": [\"foo\"]}\\nthe object {\"foo\": [\"bar\", \"baz\"]} is a well-formatted instance of the schema. The object {\"properties\": {\"foo\": [\"bar\", \"baz\"]}} is not well-formatted.\\n\\nHere is the output schema:\\n```\\n{\"properties\": {\"topic\": {\"description\": \"selected topic\", \"title\": \"Topic\", \"type\": \"string\"}, \"reason\": {\"description\": \"Reason behind topic selection\", \"title\": \"Reason\", \"type\": \"string\"}}, \"required\": [\"topic\", \"reason\"]}\\n```'"
      ]
     },
     "execution_count": 85,
     "metadata": {},
     "output_type": "execute_result"
    }
   ],
   "source": [
    "from langchain.output_parsers import PydanticOutputParser\n",
    "parser = PydanticOutputParser(pydantic_object=TopicSelection)\n",
    "parser.get_format_instructions()"
   ]
  },
  {
   "cell_type": "code",
   "execution_count": 86,
   "id": "ced0b84d",
   "metadata": {},
   "outputs": [],
   "source": [
    "class AgentState(TypedDict):\n",
    "    messages: Annotated[Sequence[BaseMessage], operator.add]"
   ]
  },
  {
   "cell_type": "code",
   "execution_count": 87,
   "id": "927ffa7b",
   "metadata": {},
   "outputs": [],
   "source": [
    "# Supervisor\n",
    "def function1(state: AgentState):\n",
    "    question = state[\"messages\"][-1]\n",
    "    print(\"Question: \",question)\n",
    "\n",
    "    template = \"\"\"\n",
    "        Your task is to classify the given user query into two of the following categories: [Stock,Not related]\n",
    "        Only respond with the the category name and nothing else.\n",
    "        user query : {question}\n",
    "        {format_instructions}\n",
    "    \"\"\"\n",
    "    prompt = PromptTemplate(\n",
    "        template=template,\n",
    "        input_variable=[\"question\"],\n",
    "        partial_variables={\"format_instructions\": parser.get_format_instructions()}\n",
    "    )\n",
    "\n",
    "    chain = prompt | model | parser\n",
    "\n",
    "    response = chain.invoke({\"question\": question})\n",
    "    print(\"parsed response: \", response)\n",
    "\n",
    "    return {\"messages\": [response.topic]} \n",
    "\n",
    "    "
   ]
  },
  {
   "cell_type": "code",
   "execution_count": null,
   "id": "452ffa1f",
   "metadata": {},
   "outputs": [],
   "source": [
    "# RAG Function\n",
    "def function2(state: AgentState):\n",
    "    print(\"--- RAG ---\")\n",
    "    query = state[\"messages\"][0]\n",
    "\n",
    "    prompt=PromptTemplate(\n",
    "        template=\"\"\"You are an assistant for question-answering tasks. Use the following pieces of retrieved context to answer the question. \n",
    "            If you don't know the answer, just say that you don't know. Use three sentences maximum and keep the answer concise.\\nQuestion: {question} \\nContext: {context} \\nAnswer:\"\"\",\n",
    "        \n",
    "        input_variables=['context', 'question']\n",
    "    )\n",
    "\n",
    "    rag_chain = (\n",
    "        {\"context\": retriever | format_docs,\n",
    "         \"question\": RunnablePassthrough()}\n",
    "        | prompt\n",
    "        | model\n",
    "        | StrOutputParser()\n",
    "    )\n",
    "\n",
    "    result = rag_chain.invoke(query)\n",
    "    return {\"messages\": [result]}\n"
   ]
  },
  {
   "cell_type": "code",
   "execution_count": 89,
   "id": "af53d25f",
   "metadata": {},
   "outputs": [],
   "source": [
    "# LLM Function\n",
    "def function3(state: AgentState):\n",
    "    print(\"--- LLM ---\")\n",
    "    query = state[\"messages\"][0]\n",
    "    complete_query = \"Anwer the follow question with you knowledge of the real world. Following is the user question: \" + query\n",
    "    response = model.invoke(complete_query)\n",
    "    return {\"messages\": [response.content]}"
   ]
  },
  {
   "cell_type": "code",
   "execution_count": 90,
   "id": "9405234f",
   "metadata": {},
   "outputs": [],
   "source": [
    "# Router\n",
    "def router(state: AgentState):\n",
    "    print(\"--- Router ---\")\n",
    "\n",
    "    last_message = state[\"messages\"][-1]\n",
    "    print(\"last message: \",last_message)\n",
    "\n",
    "    if \"stock\" in last_message.lower():\n",
    "        return \"RAG call\"\n",
    "    else:\n",
    "        return \"LLM call\""
   ]
  },
  {
   "cell_type": "code",
   "execution_count": null,
   "id": "429348d0",
   "metadata": {},
   "outputs": [],
   "source": []
  },
  {
   "cell_type": "markdown",
   "id": "3dfb27f8",
   "metadata": {},
   "source": [
    "## Graph Building"
   ]
  },
  {
   "cell_type": "code",
   "execution_count": 91,
   "id": "55b6525f",
   "metadata": {},
   "outputs": [],
   "source": [
    "from langgraph.graph import StateGraph,END"
   ]
  },
  {
   "cell_type": "code",
   "execution_count": 92,
   "id": "c9b6512a",
   "metadata": {},
   "outputs": [],
   "source": [
    "workflow = StateGraph(AgentState)"
   ]
  },
  {
   "cell_type": "code",
   "execution_count": 93,
   "id": "4e5d965a",
   "metadata": {},
   "outputs": [
    {
     "data": {
      "text/plain": [
       "<langgraph.graph.state.StateGraph at 0x18f3985f890>"
      ]
     },
     "execution_count": 93,
     "metadata": {},
     "output_type": "execute_result"
    }
   ],
   "source": [
    "workflow.add_node(\"Supervisor\",function1)\n",
    "workflow.add_node(\"RAG\",function2)\n",
    "workflow.add_node(\"LLM\",function3)"
   ]
  },
  {
   "cell_type": "code",
   "execution_count": 94,
   "id": "24bd3ce8",
   "metadata": {},
   "outputs": [
    {
     "data": {
      "text/plain": [
       "<langgraph.graph.state.StateGraph at 0x18f3985f890>"
      ]
     },
     "execution_count": 94,
     "metadata": {},
     "output_type": "execute_result"
    }
   ],
   "source": [
    "workflow.set_entry_point(\"Supervisor\")"
   ]
  },
  {
   "cell_type": "code",
   "execution_count": 95,
   "id": "4f9cfd6a",
   "metadata": {},
   "outputs": [
    {
     "data": {
      "text/plain": [
       "<langgraph.graph.state.StateGraph at 0x18f3985f890>"
      ]
     },
     "execution_count": 95,
     "metadata": {},
     "output_type": "execute_result"
    }
   ],
   "source": [
    "workflow.add_conditional_edges(\n",
    "    \"Supervisor\",\n",
    "    router,\n",
    "    {\n",
    "        \"RAG call\": \"RAG\",\n",
    "        \"LLM call\": \"LLM\"\n",
    "    }\n",
    ")"
   ]
  },
  {
   "cell_type": "code",
   "execution_count": 96,
   "id": "5aacca7c",
   "metadata": {},
   "outputs": [],
   "source": [
    "app = workflow.compile()"
   ]
  },
  {
   "cell_type": "code",
   "execution_count": 97,
   "id": "0d60c157",
   "metadata": {},
   "outputs": [
    {
     "data": {
      "image/png": "[encoded data removed]",
      "text/plain": [
       "<langgraph.graph.state.CompiledStateGraph object at 0x0000018F3985F9D0>"
      ]
     },
     "execution_count": 97,
     "metadata": {},
     "output_type": "execute_result"
    }
   ],
   "source": [
    "app"
   ]
  },
  {
   "cell_type": "code",
   "execution_count": 98,
   "id": "7848fc43",
   "metadata": {},
   "outputs": [
    {
     "name": "stdout",
     "output_type": "stream",
     "text": [
      "Question:  hi\n",
      "parsed response:  topic='Not related' reason=\"The query 'hi' is a generic greeting and does not relate to stock information.\"\n",
      "--- Router ---\n",
      "last message:  Not related\n",
      "--- LLM ---\n"
     ]
    },
    {
     "data": {
      "text/plain": [
       "{'messages': ['hi', 'Not related', 'Hi there!']}"
      ]
     },
     "execution_count": 98,
     "metadata": {},
     "output_type": "execute_result"
    }
   ],
   "source": [
    "state={\"messages\": [\"hi\"]}\n",
    "app.invoke(state)"
   ]
  },
  {
   "cell_type": "code",
   "execution_count": 99,
   "id": "f6b0a992",
   "metadata": {},
   "outputs": [
    {
     "name": "stdout",
     "output_type": "stream",
     "text": [
      "Question:  What is head and shoulders top reversal?\n",
      "parsed response:  topic='Stock' reason='Head and shoulders is a chart pattern used in stock market analysis to predict price reversals.'\n",
      "--- Router ---\n",
      "last message:  Stock\n",
      "--- RAG ---\n"
     ]
    },
    {
     "data": {
      "text/plain": [
       "{'messages': ['What is head and shoulders top reversal?',\n",
       "  'Stock',\n",
       "  \"A head and shoulders top reversal is a chart pattern indicating a potential trend reversal from uptrend to downtrend.  It consists of three peaks (left shoulder, head, right shoulder) with the middle peak being the highest, followed by a neckline break.  The pattern's completion signals a potential major trend reversal.\"]}"
      ]
     },
     "execution_count": 99,
     "metadata": {},
     "output_type": "execute_result"
    }
   ],
   "source": [
    "state={\"messages\": [\"What is head and shoulders top reversal?\"]}\n",
    "app.invoke(state)"
   ]
  },
  {
   "cell_type": "code",
   "execution_count": null,
   "id": "f37f6e43",
   "metadata": {},
   "outputs": [],
   "source": []
  }
 ],
 "metadata": {
  "kernelspec": {
   "display_name": "Python 3",
   "language": "python",
   "name": "python3"
  },
  "language_info": {
   "codemirror_mode": {
    "name": "ipython",
    "version": 3
   },
   "file_extension": ".py",
   "mimetype": "text/x-python",
   "name": "python",
   "nbconvert_exporter": "python",
   "pygments_lexer": "ipython3",
   "version": "3.13.0"
  }
 },
 "nbformat": 4,
 "nbformat_minor": 5
}
