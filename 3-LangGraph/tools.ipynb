{
 "cells": [
  {
   "cell_type": "markdown",
   "id": "f3b565dd",
   "metadata": {},
   "source": [
    "## Wikipedia"
   ]
  },
  {
   "cell_type": "code",
   "execution_count": 4,
   "id": "fa9e5059",
   "metadata": {},
   "outputs": [],
   "source": [
    "from langchain_community.tools import WikipediaQueryRun\n",
    "from langchain_community.utilities import WikipediaAPIWrapper\n",
    "\n",
    "wiki = WikipediaQueryRun(api_wrapper=WikipediaAPIWrapper(doc_content_chars_max=1000))"
   ]
  },
  {
   "cell_type": "code",
   "execution_count": 7,
   "id": "8986ddb3",
   "metadata": {},
   "outputs": [
    {
     "data": {
      "text/plain": [
       "'Page: MS Dhoni\\nSummary: Mahendra Singh Dhoni ( ; born 7 July 1981) is an Indian professional cricketer who plays as a right-handed batter and a wicket-keeper. Widely regarded as one of the most prolific wicket-keeper batsmen and captains and one of the greatest ODI batsmen, he represented the Indian cricket team and was the captain of the side in limited overs formats from 2007 to 2017 and in test cricket from 2008 to 2014. Dhoni has captained the most international matches and is the most successful Indian captain. He has led India to victory in the 2007 ICC World Twenty20, the 2011 Cricket World Cup, and the 2013 ICC Champions Trophy, being the only captain to win three different limited overs ICC tournaments. He also led the teams that won the Asia Cup in 2010, 2016 and was a member of the title winning squad in 2018.\\nBorn in Ranchi, Dhoni made his first class debut for Bihar in 1999. He made his debut for the Indian cricket team on 23 December 2004 in an ODI against Bangladesh and '"
      ]
     },
     "execution_count": 7,
     "metadata": {},
     "output_type": "execute_result"
    }
   ],
   "source": [
    "wiki.run(\"ms dhoni\")"
   ]
  },
  {
   "cell_type": "markdown",
   "id": "610a584b",
   "metadata": {},
   "source": [
    "## Tavily"
   ]
  },
  {
   "cell_type": "code",
   "execution_count": 18,
   "id": "c0044ce6",
   "metadata": {},
   "outputs": [],
   "source": [
    "import os\n",
    "from dotenv import load_dotenv\n",
    "load_dotenv()\n",
    "TAVILY_API_KEY = os.getenv(\"TAVILY_API_KEY\")"
   ]
  },
  {
   "cell_type": "code",
   "execution_count": 20,
   "id": "c91faa19",
   "metadata": {},
   "outputs": [],
   "source": [
    "from langchain_community.tools.tavily_search.tool import TavilySearchResults"
   ]
  },
  {
   "cell_type": "code",
   "execution_count": 21,
   "id": "6dfefe29",
   "metadata": {},
   "outputs": [],
   "source": [
    "tavily = TavilySearchResults(tavily_api_key=TAVILY_API_KEY)"
   ]
  },
  {
   "cell_type": "code",
   "execution_count": 22,
   "id": "1b33ecba",
   "metadata": {},
   "outputs": [
    {
     "data": {
      "text/plain": [
       "[{'title': 'Ather Energy Ltd. - Share/Stock Price - Moneycontrol',\n",
       "  'url': 'https://www.moneycontrol.com/india/stockpricequote/auto-ancillaries-brakes/atherenergy/AEL09',\n",
       "  'content': '| Company Name | Price | % Chg | MCap(Cr) | TTM PE | P/B | ROE(%) | 1 Yr Perform(%) | Net Profit(Rs.) | Net Sales(Rs.) | Debt to Equity |\\n| --- | --- | --- | --- | --- | --- | --- | --- | --- | --- | --- |\\n| [Ather Energy](https://www.moneycontrol.com/india/stockpricequote/auto-ancillaries-brakes/atherenergy/AEL09 \"Ather Energy\") | 309.00 | 0.11 | 11,509.00 | - | 81.53 | -164.76 | - | -812 | 2,255 | 0.91 | [...] # Ather Energy Ltd.\\n\\n![](https://images.moneycontrol.com/images/tv/ajax-loader.gif)\\n\\nAs on 06 Jun, 2025 | 03:57\\n\\n### \\\\* BSE Market Depth (06 Jun 2025)\\n\\n| BUY | | SELL | |\\n| --- | --- | --- | --- |\\n| **QTY** | **PRICE** | **PRICE** | **QTY** |\\n| 146 | 308.00 | 309.50 | 294 |\\n| 5 | 307.90 | 309.85 | 150 |\\n| 2 | 307.80 | 309.90 | 75 |\\n| 4 | 307.50 | 310.00 | 46 |\\n| 63 | 307.00 | 310.15 | 56 |\\n| **0** | **Total** | **Total** | **0** |\\n\\nAs on 06 Jun, 2025 | 04:01 [...] ### \\\\* BSE Market Depth (06 Jun 2025)\\n\\n| BUY | | SELL | |\\n| --- | --- | --- | --- |\\n| **QTY** | **PRICE** | **PRICE** | **QTY** |\\n| 146 | 308.00 | 309.50 | 294 |\\n| 5 | 307.90 | 309.85 | 150 |\\n| 2 | 307.80 | 309.90 | 75 |\\n| 4 | 307.50 | 310.00 | 46 |\\n| 63 | 307.00 | 310.15 | 56 |\\n| **0** | **Total** | **Total** | **0** |\\n\\n## #KnowBeforeYouInvest\\n\\n![](https://stat2.moneycontrol.com/assets/images/pnc/swot_logo.png)\\n![](https://stat2.moneycontrol.com/assets/images/stock/lock_icon.png)',\n",
       "  'score': 0.9191869},\n",
       " {'title': 'Ather Energy Ltd Stock Price Today | NSE: ATHR Live - Investing.com',\n",
       "  'url': 'https://www.investing.com/equities/ather-energy',\n",
       "  'content': 'The Ather Energy Ltd stock price today is 317.25. What Is the Stock Symbol for Ather Energy Ltd? The stock ticker symbol for Ather Energy Ltd is ATHR. Is ATHR',\n",
       "  'score': 0.9138076},\n",
       " {'title': 'Ather Energy Share Price - Business Standard',\n",
       "  'url': 'https://www.business-standard.com/markets/ather-energy-ltd-share-price-75556.html',\n",
       "  'content': 'Ather Energy Ltd share price was Rs 309.50 at 04:01 PM IST on 6th Jun 2025. Ather Energy Ltd share price was up by 0.26% over the previous closing price of Rs',\n",
       "  'score': 0.8825193},\n",
       " {'title': 'Ather Energy share price - Finology Ticker',\n",
       "  'url': 'https://ticker.finology.in/company/ATHERENERG',\n",
       "  'content': 'Ather Energy Ltd. Share Price Today: CLOSE 309.5, HIGH 311.5, LOW: 306.65. Get latest balance sheet, annual reports, quarterly results, and price chart.',\n",
       "  'score': 0.8737439},\n",
       " {'title': 'Ather Energy Stock Price Live NSE/BSE - Groww',\n",
       "  'url': 'https://groww.in/stocks/ather-energy-ltd',\n",
       "  'content': '|  |  |\\n| --- | --- |\\n| Market Cap | ₹11,511Cr |\\n| ROE | -164.77% |\\n| P/E Ratio(TTM) | -14.17 |\\n| EPS(TTM) | -21.81 |\\n| P/B Ratio | 3.69 |\\n| Dividend Yield | 0.00% |\\n| Industry P/E | 30.64 |\\n| Book Value | 83.75 |\\n| Debt to Equity | 1.26 |\\n| Face Value | 1 |\\n\\n## Financials\\n\\n## About Ather Energy\\n\\n|  |  |\\n| --- | --- |\\n| Parent Organisation | Ather Energy |\\n\\n|  |  |\\n| --- | --- |\\n| NSE Symbol | ATHERENERG |\\n\\n## Shareholding Pattern\\n\\n## Top Mutual Funds Invested(4)',\n",
       "  'score': 0.85008353}]"
      ]
     },
     "execution_count": 22,
     "metadata": {},
     "output_type": "execute_result"
    }
   ],
   "source": [
    "tavily.run(\"what is the stock price of ather energies\")"
   ]
  },
  {
   "cell_type": "markdown",
   "id": "bcc972ce",
   "metadata": {},
   "source": []
  },
  {
   "cell_type": "markdown",
   "id": "e00e0af1",
   "metadata": {},
   "source": [
    "## Custom Tool"
   ]
  },
  {
   "cell_type": "code",
   "execution_count": 24,
   "id": "5f48fd32",
   "metadata": {},
   "outputs": [],
   "source": [
    "from langchain.agents import tool\n",
    "\n",
    "@tool\n",
    "def multiply(a:int,b:int) -> int:\n",
    "    '''this tool is for multiplication'''\n",
    "    return a*b\n"
   ]
  },
  {
   "cell_type": "code",
   "execution_count": 26,
   "id": "c9d038ad",
   "metadata": {},
   "outputs": [
    {
     "data": {
      "text/plain": [
       "200"
      ]
     },
     "execution_count": 26,
     "metadata": {},
     "output_type": "execute_result"
    }
   ],
   "source": [
    "multiply.invoke({\"a\":10,\"b\":20})"
   ]
  }
 ],
 "metadata": {
  "kernelspec": {
   "display_name": "Python 3",
   "language": "python",
   "name": "python3"
  },
  "language_info": {
   "codemirror_mode": {
    "name": "ipython",
    "version": 3
   },
   "file_extension": ".py",
   "mimetype": "text/x-python",
   "name": "python",
   "nbconvert_exporter": "python",
   "pygments_lexer": "ipython3",
   "version": "3.13.0"
  }
 },
 "nbformat": 4,
 "nbformat_minor": 5
}
