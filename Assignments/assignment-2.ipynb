{
 "cells": [
  {
   "cell_type": "markdown",
   "id": "7663a66a",
   "metadata": {},
   "source": [
    "## Assignment-2: RAG"
   ]
  },
  {
   "cell_type": "code",
   "execution_count": null,
   "id": "50a2e6b4",
   "metadata": {},
   "outputs": [],
   "source": []
  }
 ],
 "metadata": {
  "kernelspec": {
   "display_name": "Python 3",
   "language": "python",
   "name": "python3"
  },
  "language_info": {
   "name": "python",
   "version": "3.13.0"
  }
 },
 "nbformat": 4,
 "nbformat_minor": 5
}
