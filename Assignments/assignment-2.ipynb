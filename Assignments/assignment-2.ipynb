{
 "cells": [
  {
   "cell_type": "markdown",
   "id": "7663a66a",
   "metadata": {},
   "source": [
    "## Assignment-2: RAG"
   ]
  },
  {
   "cell_type": "code",
   "execution_count": 31,
   "id": "50a2e6b4",
   "metadata": {},
   "outputs": [
    {
     "data": {
      "text/plain": [
       "True"
      ]
     },
     "execution_count": 31,
     "metadata": {},
     "output_type": "execute_result"
    }
   ],
   "source": [
    "import os\n",
    "from dotenv import load_dotenv\n",
    "load_dotenv()"
   ]
  },
  {
   "cell_type": "code",
   "execution_count": 32,
   "id": "f1c3638a",
   "metadata": {},
   "outputs": [],
   "source": [
    "os.environ[\"GROQ_API_KEY\"]=os.getenv(\"GROQ_API_KEY\")\n",
    "\n",
    "## Langsmith Tracking And Tracing\n",
    "os.environ[\"LANGCHAIN_API_KEY\"]=os.getenv(\"LANGCHAIN_API_KEY\")\n",
    "os.environ[\"LANGCHAIN_PROJECT\"]=os.getenv(\"LANGCHAIN_PROJECT\")\n",
    "os.environ[\"PINECONE_API_KEY\"]=os.getenv(\"PINECONE_API_KEY\")\n",
    "os.environ[\"LANGCHAIN_TRACING_V2\"]=\"true\""
   ]
  },
  {
   "cell_type": "code",
   "execution_count": 33,
   "id": "6635e91f",
   "metadata": {},
   "outputs": [],
   "source": [
    "os.environ['HF_TOKEN']=os.getenv(\"HF_TOKEN\")"
   ]
  },
  {
   "cell_type": "code",
   "execution_count": 34,
   "id": "cb849894",
   "metadata": {},
   "outputs": [],
   "source": [
    "FILE_PATH = r\"D:\\Agentic_AI\\Assignments\\NISM_ResearchAnalyst.pdf\""
   ]
  },
  {
   "cell_type": "code",
   "execution_count": 35,
   "id": "cf962aae",
   "metadata": {},
   "outputs": [],
   "source": [
    "from langchain.document_loaders import PyPDFLoader\n",
    "from langchain.text_splitter import RecursiveCharacterTextSplitter"
   ]
  },
  {
   "cell_type": "code",
   "execution_count": 36,
   "id": "ea937021",
   "metadata": {},
   "outputs": [],
   "source": [
    "loader = PyPDFLoader(FILE_PATH)\n",
    "docs = loader.load()"
   ]
  },
  {
   "cell_type": "code",
   "execution_count": 37,
   "id": "87eefa3f",
   "metadata": {},
   "outputs": [
    {
     "data": {
      "text/plain": [
       "277"
      ]
     },
     "execution_count": 37,
     "metadata": {},
     "output_type": "execute_result"
    }
   ],
   "source": [
    "len(docs)"
   ]
  },
  {
   "cell_type": "code",
   "execution_count": 38,
   "id": "26a2789a",
   "metadata": {},
   "outputs": [],
   "source": [
    "splitter = RecursiveCharacterTextSplitter(chunk_size=1000,chunk_overlap=200)\n",
    "split_docs = splitter.split_documents(docs)"
   ]
  },
  {
   "cell_type": "code",
   "execution_count": 39,
   "id": "6faf8603",
   "metadata": {},
   "outputs": [
    {
     "data": {
      "text/plain": [
       "871"
      ]
     },
     "execution_count": 39,
     "metadata": {},
     "output_type": "execute_result"
    }
   ],
   "source": [
    "len(split_docs)"
   ]
  },
  {
   "cell_type": "code",
   "execution_count": 40,
   "id": "6d8683f9",
   "metadata": {},
   "outputs": [],
   "source": [
    "from langchain_huggingface import HuggingFaceEmbeddings\n",
    "embedding = HuggingFaceEmbeddings(model_name=\"all-mpnet-base-v2\")"
   ]
  },
  {
   "cell_type": "code",
   "execution_count": 41,
   "id": "c1fffcb5",
   "metadata": {},
   "outputs": [],
   "source": [
    "from uuid import uuid4\n",
    "uuids = [str(uuid4()) for _ in range(len(split_docs))]"
   ]
  },
  {
   "cell_type": "code",
   "execution_count": 42,
   "id": "a17e4d6b",
   "metadata": {},
   "outputs": [],
   "source": [
    "from pinecone import Pinecone\n",
    "pinecone_api_key = os.environ.get(\"PINECONE_API_KEY\")\n",
    "pc = Pinecone(api_key=pinecone_api_key)"
   ]
  },
  {
   "cell_type": "code",
   "execution_count": 43,
   "id": "f4475b75",
   "metadata": {},
   "outputs": [],
   "source": [
    "index_name = 'nism-rag'\n",
    "index=pc.Index(index_name)"
   ]
  },
  {
   "cell_type": "code",
   "execution_count": 44,
   "id": "61bca369",
   "metadata": {},
   "outputs": [],
   "source": [
    "from langchain_pinecone import PineconeVectorStore\n",
    "vectorstore = PineconeVectorStore(index=index,embedding=embedding)"
   ]
  },
  {
   "cell_type": "code",
   "execution_count": 50,
   "id": "7a67797e",
   "metadata": {},
   "outputs": [
    {
     "name": "stdout",
     "output_type": "stream",
     "text": [
      "Valid docs: 871, Oversized docs: 0\n",
      "Uploaded batch 1\n",
      "Uploaded batch 2\n",
      "Uploaded batch 3\n",
      "Uploaded batch 4\n",
      "Uploaded batch 5\n",
      "Uploaded batch 6\n",
      "Uploaded batch 7\n",
      "Uploaded batch 8\n",
      "Uploaded batch 9\n",
      "Uploaded batch 10\n",
      "Uploaded batch 11\n",
      "Uploaded batch 12\n",
      "Uploaded batch 13\n",
      "Uploaded batch 14\n",
      "Uploaded batch 15\n",
      "Uploaded batch 16\n",
      "Uploaded batch 17\n",
      "Uploaded batch 18\n"
     ]
    }
   ],
   "source": [
    "MAX_BYTES = 4194304  # 4 MiB\n",
    "\n",
    "def is_valid_doc(doc):\n",
    "    size = len(doc.page_content.encode('utf-8'))\n",
    "    return size <= MAX_BYTES\n",
    "\n",
    "# Filter out oversized documents\n",
    "valid_docs = [doc for doc in split_docs if is_valid_doc(doc)]\n",
    "oversized_docs = [doc for doc in split_docs if not is_valid_doc(doc)]\n",
    "\n",
    "print(f\"Valid docs: {len(valid_docs)}, Oversized docs: {len(oversized_docs)}\")\n",
    "\n",
    "# If you have UUIDs, sync them with the filtered docs\n",
    "valid_ids = [uuid for doc, uuid in zip(split_docs, uuids) if is_valid_doc(doc)]\n",
    "\n",
    "BATCH_SIZE = 50  # try 20–50 if the problem persists\n",
    "\n",
    "for i in range(0, len(valid_docs), BATCH_SIZE):\n",
    "    batch_docs = valid_docs[i:i + BATCH_SIZE]\n",
    "    batch_ids = valid_ids[i:i + BATCH_SIZE]\n",
    "    try:\n",
    "        vectorstore.add_documents(documents=batch_docs, ids=batch_ids)\n",
    "        print(f\"Uploaded batch {i // BATCH_SIZE + 1}\")\n",
    "    except Exception as e:\n",
    "        print(f\"Failed to upload batch {i // BATCH_SIZE + 1}: {e}\")\n",
    "\n"
   ]
  },
  {
   "cell_type": "code",
   "execution_count": 51,
   "id": "585c2e86",
   "metadata": {},
   "outputs": [],
   "source": [
    "retriever = vectorstore.as_retriever(\n",
    "    search_type=\"similarity\", \n",
    "    search_kwargs={\"k\": 5}      \n",
    ")\n"
   ]
  },
  {
   "cell_type": "code",
   "execution_count": 52,
   "id": "2abf2e9a",
   "metadata": {},
   "outputs": [
    {
     "name": "stderr",
     "output_type": "stream",
     "text": [
      "C:\\Users\\srich\\AppData\\Local\\Temp\\ipykernel_11776\\3215714457.py:2: LangChainDeprecationWarning: The method `BaseRetriever.get_relevant_documents` was deprecated in langchain-core 0.1.46 and will be removed in 1.0. Use :meth:`~invoke` instead.\n",
      "  results = retriever.get_relevant_documents(query)\n"
     ]
    },
    {
     "name": "stdout",
     "output_type": "stream",
     "text": [
      "\n",
      "--- Document 1 ---\n",
      "14 \n",
      " \n",
      "CHAPTER 1: INTRODUCTION TO RESEARCH ANALYST PROFESSION \n",
      " \n",
      " \n",
      " \n",
      " \n",
      " \n",
      "1.1 Primary Role of a Research Analyst \n",
      "Imagine you've decided to buy a  new phone. What would be your  process of selection? For the price \n",
      "range decided, you would short list a set of brands,  compare various technical specifi\n",
      "\n",
      "--- Document 2 ---\n",
      "sources including the financial statements/Annual reports filed by the companies as part of regulatory \n",
      "compliance requirements, meeting officials of the company authorized to provide it and other sources \n",
      "such as plant/factory visits, market surveys and employee/stakeholder interviews. \n",
      "Analysis an\n",
      "\n",
      "--- Document 3 ---\n",
      "20 \n",
      " \n",
      "Sample Questions \n",
      "1. What is the role of Research Analyst? \n",
      "a. RAs are only involved in the analysis of data \n",
      "b. RAs are only involved in collection of the data \n",
      "c. RAs help their clients take informed decisions \n",
      "d. RAs help in financial planning of their client \n",
      " \n",
      "2. Analysis and Decision mak\n",
      "\n",
      "--- Document 4 ---\n",
      "expected that RAs would perform their role with utmost sincerity, honesty and ethics without any bias, \n",
      "following all the rules and regulations as specified by SEBI  both in words and spirit . For this, it is also \n",
      "recommended to make use of technology like recording devices while interviewing manag\n",
      "\n",
      "--- Document 5 ---\n",
      "limited to the broader asset class. \n",
      "4.2 The role of research in investment activity \n",
      "The role of a fundamental research analyst comprises of two parts (i) Research and (ii) Analysis. \n",
      "While analysis involves analysing all the available information to arrive at a conclusion, research \n",
      "involves obtai\n"
     ]
    }
   ],
   "source": [
    "query = \"Analysis and Decision making, the two imperative parameters of a research analyst’s role are affected by which of the following factors? \"\n",
    "results = retriever.get_relevant_documents(query)\n",
    "\n",
    "for i, doc in enumerate(results):\n",
    "    print(f\"\\n--- Document {i+1} ---\")\n",
    "    print(doc.page_content[:300])  \n"
   ]
  },
  {
   "cell_type": "code",
   "execution_count": 53,
   "id": "cba56671",
   "metadata": {},
   "outputs": [],
   "source": [
    "from langchain_google_genai import ChatGoogleGenerativeAI\n",
    "model=ChatGoogleGenerativeAI(model='gemini-1.5-flash')"
   ]
  },
  {
   "cell_type": "code",
   "execution_count": 54,
   "id": "c318823f",
   "metadata": {},
   "outputs": [],
   "source": [
    "from langchain import hub\n",
    "prompt = hub.pull(\"rlm/rag-prompt\")"
   ]
  },
  {
   "cell_type": "code",
   "execution_count": 55,
   "id": "1f693f77",
   "metadata": {},
   "outputs": [],
   "source": [
    "from langchain_core.output_parsers import StrOutputParser\n",
    "from langchain_core.runnables import RunnablePassthrough"
   ]
  },
  {
   "cell_type": "code",
   "execution_count": 56,
   "id": "df90abf2",
   "metadata": {},
   "outputs": [],
   "source": [
    "def format_docs(docs):\n",
    "    return \"\\n\\n\".join(doc.page_content for doc in docs)"
   ]
  },
  {
   "cell_type": "code",
   "execution_count": 57,
   "id": "ea591928",
   "metadata": {},
   "outputs": [],
   "source": [
    "rag_chain = (\n",
    "    {\"context\": retriever | format_docs, \"question\": RunnablePassthrough()}\n",
    "    | prompt\n",
    "    | model\n",
    "    | StrOutputParser()\n",
    ")"
   ]
  },
  {
   "cell_type": "code",
   "execution_count": 59,
   "id": "6e1b64d9",
   "metadata": {},
   "outputs": [
    {
     "data": {
      "text/plain": [
       "'A good research analyst possesses strong quantitative skills, including comfort with numbers and data analysis tools like Excel.  They are also methodical, inquisitive, and discerning in finding relevant information, understanding business models and competitive dynamics.  Finally, honesty and ethical conduct are crucial.'"
      ]
     },
     "execution_count": 59,
     "metadata": {},
     "output_type": "execute_result"
    }
   ],
   "source": [
    "rag_chain.invoke(\"Which of these Qualities are desired in a good research analyst? \")"
   ]
  }
 ],
 "metadata": {
  "kernelspec": {
   "display_name": "Python 3",
   "language": "python",
   "name": "python3"
  },
  "language_info": {
   "codemirror_mode": {
    "name": "ipython",
    "version": 3
   },
   "file_extension": ".py",
   "mimetype": "text/x-python",
   "name": "python",
   "nbconvert_exporter": "python",
   "pygments_lexer": "ipython3",
   "version": "3.13.0"
  }
 },
 "nbformat": 4,
 "nbformat_minor": 5
}
