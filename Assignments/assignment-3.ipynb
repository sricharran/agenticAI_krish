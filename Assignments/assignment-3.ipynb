{
 "cells": [
  {
   "cell_type": "markdown",
   "id": "8bdb5080",
   "metadata": {},
   "source": [
    "## Simple AI Agent using LangGraph"
   ]
  },
  {
   "cell_type": "code",
   "execution_count": 1,
   "id": "bac6ddfe",
   "metadata": {},
   "outputs": [
    {
     "data": {
      "text/plain": [
       "True"
      ]
     },
     "execution_count": 1,
     "metadata": {},
     "output_type": "execute_result"
    }
   ],
   "source": [
    "import os\n",
    "from dotenv import load_dotenv\n",
    "load_dotenv()"
   ]
  },
  {
   "cell_type": "code",
   "execution_count": 2,
   "id": "4b5d5543",
   "metadata": {},
   "outputs": [],
   "source": [
    "os.environ[\"GROQ_API_KEY\"]=os.getenv(\"GROQ_API_KEY\")\n",
    "\n",
    "## Langsmith Tracking And Tracing\n",
    "os.environ[\"LANGCHAIN_API_KEY\"]=os.getenv(\"LANGCHAIN_API_KEY\")\n",
    "os.environ[\"LANGCHAIN_PROJECT\"]=os.getenv(\"LANGCHAIN_PROJECT\")\n",
    "os.environ[\"PINECONE_API_KEY\"]=os.getenv(\"PINECONE_API_KEY\")\n",
    "os.environ[\"LANGCHAIN_TRACING_V2\"]=\"true\""
   ]
  },
  {
   "cell_type": "code",
   "execution_count": 3,
   "id": "fb14bd5a",
   "metadata": {},
   "outputs": [],
   "source": [
    "os.environ['HF_TOKEN']=os.getenv(\"HF_TOKEN\")"
   ]
  },
  {
   "cell_type": "code",
   "execution_count": 4,
   "id": "69061cd5",
   "metadata": {},
   "outputs": [
    {
     "name": "stderr",
     "output_type": "stream",
     "text": [
      "d:\\Agentic_AI\\venv\\Lib\\site-packages\\tqdm\\auto.py:21: TqdmWarning: IProgress not found. Please update jupyter and ipywidgets. See https://ipywidgets.readthedocs.io/en/stable/user_install.html\n",
      "  from .autonotebook import tqdm as notebook_tqdm\n"
     ]
    }
   ],
   "source": [
    "from langchain_huggingface import HuggingFaceEmbeddings\n",
    "embedding = HuggingFaceEmbeddings(model_name=\"all-mpnet-base-v2\")"
   ]
  },
  {
   "cell_type": "markdown",
   "id": "f4de5a8b",
   "metadata": {},
   "source": [
    "## Retriever Setup"
   ]
  },
  {
   "cell_type": "code",
   "execution_count": 5,
   "id": "6cdc303d",
   "metadata": {},
   "outputs": [],
   "source": [
    "pinecone_api_key = os.environ[\"PINECONE_API_KEY\"]"
   ]
  },
  {
   "cell_type": "code",
   "execution_count": 6,
   "id": "5795f856",
   "metadata": {},
   "outputs": [],
   "source": [
    "from pinecone import Pinecone\n",
    "pc = Pinecone(api_key=pinecone_api_key)"
   ]
  },
  {
   "cell_type": "code",
   "execution_count": 7,
   "id": "966e6c0e",
   "metadata": {},
   "outputs": [],
   "source": [
    "index_name = \"nism-rag\"\n",
    "index = pc.Index(index_name)"
   ]
  },
  {
   "cell_type": "code",
   "execution_count": 8,
   "id": "9f2b6260",
   "metadata": {},
   "outputs": [],
   "source": [
    "from langchain_pinecone import PineconeVectorStore\n",
    "vector_store = PineconeVectorStore(index=index,embedding=embedding)\n",
    "\n",
    "retriever = vector_store.as_retriever(\n",
    "    search_type=\"similarity\",\n",
    "    search_kwargs = {\"k\":5}\n",
    ")"
   ]
  },
  {
   "cell_type": "code",
   "execution_count": 9,
   "id": "f9b804ee",
   "metadata": {},
   "outputs": [
    {
     "data": {
      "text/plain": [
       "[Document(id='69fa8346-212a-4691-91ff-ad9a78f01cd7', metadata={'creationdate': '2013-01-10T16:57:44+05:30', 'creator': 'PyPDF', 'moddate': '2013-08-12T18:41:56+05:30', 'page': 2.0, 'page_label': '3', 'producer': 'Acrobat Distiller 7.0 (Windows)', 'source': 'C:\\\\Users\\\\srich\\\\Downloads\\\\TA_wrkbk.pdf', 'title': 'untitled', 'total_pages': 172.0}, page_content='2.2.1.1 Hammer ............................................................................21\\n  2.2.1.2 Hanging man ......................................................................22\\n  2.2.1.3 Shooting star and inverted hammer .......................................23\\n 2.2.2 Two candle pattern ............................................................................26\\n  2.2.2.1 Bullish engulﬁ  ng ..................................................................26\\n  2.2.2.2 Bearish engulﬁ  ng ................................................................28\\n  2.2.2.3 Piercing .............................................................................29 \\n  2.2.2.4 Bearish harami....................................................................31\\n  2.2.2.5 Bullish harami .....................................................................33\\n 2.2.3 Three candle pattern .........................................................................35'),\n",
       " Document(id='a2644f59-42a9-4dae-9dfc-6da199da2f50', metadata={'creationdate': '2013-01-10T16:57:44+05:30', 'creator': 'PyPDF', 'moddate': '2013-08-12T18:41:56+05:30', 'page': 21.0, 'page_label': '22', 'producer': 'Acrobat Distiller 7.0 (Windows)', 'source': 'C:\\\\Users\\\\srich\\\\Downloads\\\\TA_wrkbk.pdf', 'title': 'untitled', 'total_pages': 172.0}, page_content='22\\nSignal enhancements \\n1. The longer the lower shadow, the higher the potential of a reversal occurring.\\n2. Large volume on the Hammer day increases the chances that a blow off day has \\noccurred.\\n3. A gap down from the previous day’s close sets up for a stronger reversal move provided \\nthe day after the Hammer signal opens higher.\\nPattern psychology\\nThe market has been in a downtrend, so there is an air of bearishness. The price opens and \\nstarts to trade lower. However the sell-off is abated and market returns to high for the day as \\nthe bulls have stepped in. They start bringing the price back up towards the top of the trading \\nrange. This creates a small body with a large lower shadow. This represents that the bears \\ncould not maintain control. The long lower shadow now has the bears questioning whether \\nthe decline is still intact. Conﬁ rmation would be a higher open with yet a still higher close on \\nthe next trading day.\\n2.2.1.2 Hanging man'),\n",
       " Document(id='7078e417-fe7f-41d7-9eb5-52192126c827', metadata={'creationdate': '2013-01-10T16:57:44+05:30', 'creator': 'PyPDF', 'moddate': '2013-08-12T18:41:56+05:30', 'page': 20.0, 'page_label': '21', 'producer': 'Acrobat Distiller 7.0 (Windows)', 'source': 'C:\\\\Users\\\\srich\\\\Downloads\\\\TA_wrkbk.pdf', 'title': 'untitled', 'total_pages': 172.0}, page_content='21\\nsession being below the closing price; and a black candlestick shows opening price of the \\nsession being above the closing price. The shadow at top and bottom indicates the high and \\nlow for the session.\\nJapanese candlesticks offer a quick picture into the psychology of short term trading, studying \\nthe effect, not the cause. Therefore if you combine candlestick analysis with other technical \\nanalysis tools, candlestick pattern analysis can be a very useful way to select entry and exit \\npoints.\\n2.2.1 One candle patterns\\nIn the terminology of Japanese candlesticks, one candle patterns are known as “Umbrella \\nlines”. There are two types of umbrella lines - the hanging man  and the hammer. They have \\nlong lower shadows and small real bodies that are at top of the trading range for the session. \\nThey are the simplest lines because they do not necessarily have to be spotted in combination \\nwith other candles to have some validity. \\n Hammer and Hanging Man Hammer Hanging Man Candlesticks'),\n",
       " Document(id='23e7d68b-1497-4ef3-86a6-773e77f89123', metadata={'creationdate': '2013-01-10T16:57:44+05:30', 'creator': 'PyPDF', 'moddate': '2013-08-12T18:41:56+05:30', 'page': 20.0, 'page_label': '21', 'producer': 'Acrobat Distiller 7.0 (Windows)', 'source': 'C:\\\\Users\\\\srich\\\\Downloads\\\\TA_wrkbk.pdf', 'title': 'untitled', 'total_pages': 172.0}, page_content='They are the simplest lines because they do not necessarily have to be spotted in combination \\nwith other candles to have some validity. \\n Hammer and Hanging Man Hammer Hanging Man Candlesticks\\n2.2.1.1 Hammer\\nHammer is a one candle pattern that occurs in a downtrend when bulls make a start to \\nstep into the rally. It is so named because it hammers out the bottom. The lower shadow of \\nhammer is minimum of twice the length of body. Although, the color of the body is not of \\nmuch signiﬁ cance but a white candle shows slightly more bullish implications than the black \\nbody. A positive day i.e. a white candle is required the next day to conﬁ rm this signal.\\nCriteria \\n1. The lower shadow should be at least two times the length of the body.\\n2. There should be no upper shadow or a very small upper shadow.\\n3. The real body is at the upper end of the trading range. The color of the body is not \\nimportant although a white body should have slightly more bullish implications.'),\n",
       " Document(id='399bced1-e88e-4b70-ae8e-6389b2b4283e', metadata={'creationdate': '2013-01-10T16:57:44+05:30', 'creator': 'PyPDF', 'moddate': '2013-08-12T18:41:56+05:30', 'page': 28.0, 'page_label': '29', 'producer': 'Acrobat Distiller 7.0 (Windows)', 'source': 'C:\\\\Users\\\\srich\\\\Downloads\\\\TA_wrkbk.pdf', 'title': 'untitled', 'total_pages': 172.0}, page_content='29\\n2.2.2.3 Piercing \\nThe bullish counterpart to the dark cloud cover is the “ piercing pattern.” The ﬁ rst thing to \\nlook for is to spot the piercing pattern in an existing downtrend, which consists of a long black \\ncandlestick followed by a gap lower open during the next session, but which closes at least \\nhalfway into the prior black candlestick’s real body. \\nDescription\\nThe Piercing Pattern is composed of a two-candle formation in a down trending market. With \\ndaily candles, the piercing pattern will often end a minor downtrend (a downtrend that lasts \\nbetween six and ﬁ fteen trading days ). The day before the piercing candle appears, the \\ndaily candle should have a fairly large dark real body, signifying a strong down day.')]"
      ]
     },
     "execution_count": 9,
     "metadata": {},
     "output_type": "execute_result"
    }
   ],
   "source": [
    "result = retriever.invoke(\"what is hammer pattern?\")\n",
    "result"
   ]
  },
  {
   "cell_type": "markdown",
   "id": "b2e51678",
   "metadata": {},
   "source": [
    "## Search Tool Setup"
   ]
  },
  {
   "cell_type": "code",
   "execution_count": 10,
   "id": "b335550d",
   "metadata": {},
   "outputs": [],
   "source": [
    "from langchain_community.tools import DuckDuckGoSearchRun\n",
    "\n",
    "search_tool = DuckDuckGoSearchRun()"
   ]
  },
  {
   "cell_type": "code",
   "execution_count": 11,
   "id": "624999d8",
   "metadata": {},
   "outputs": [
    {
     "data": {
      "text/plain": [
       "'Warren Buffett (born August 30, 1930, Omaha, Nebraska) is an American businessman and philanthropist, widely considered the most successful investor of the 20th and early 21st centuries, having defied prevailing investment trends to amass a personal fortune of more than $100 billion. Warren Buffett just changed how his considerable fortune will be spent following his death. Buffett, 93, the chairman of Berkshire Hathaway, told the Wall Street Journal he has again re-worked his ... Learn how Warren Buffett became the \"Oracle of Omaha\" and one of the richest men in the world. Discover his early life, education, mentors, investments, philanthropy and tips for value investors. Warren Buffett\\'s Berkshire Hathaway succession announcement offers couples key lessons on planning for loss, household roles, and longevity in retirement. By Joseph Coughlin Senior Contributor ... Warren Buffett recently announced he\\'s stepping down as Berkshire Hathaway\\'s CEO at the end of this year — but he may not actually stop working. Here\\'s why.'"
      ]
     },
     "execution_count": 11,
     "metadata": {},
     "output_type": "execute_result"
    }
   ],
   "source": [
    "search_tool.invoke(\"warren buffet\")"
   ]
  },
  {
   "cell_type": "code",
   "execution_count": null,
   "id": "780bf60c",
   "metadata": {},
   "outputs": [],
   "source": []
  },
  {
   "cell_type": "markdown",
   "id": "8072dc56",
   "metadata": {},
   "source": [
    "## LLM Setup"
   ]
  },
  {
   "cell_type": "code",
   "execution_count": 12,
   "id": "bb17935f",
   "metadata": {},
   "outputs": [],
   "source": [
    "from langchain_groq import ChatGroq\n",
    "validation_model = ChatGroq(model=\"llama-3.3-70b-versatile\")"
   ]
  },
  {
   "cell_type": "code",
   "execution_count": 13,
   "id": "769d9581",
   "metadata": {},
   "outputs": [
    {
     "data": {
      "text/plain": [
       "AIMessage(content='GenAI is a term that refers to General Artificial Intelligence or General-Purpose Artificial Intelligence. It is a type of artificial intelligence that is designed to be versatile and able to perform a wide range of tasks, similar to human intelligence.\\n\\nGenAI is a hypothetical AI system that possesses the ability to:\\n\\n1. **Learn**: Acquire knowledge and skills from various sources, including data, experience, and feedback.\\n2. **Reason**: Draw inferences, make decisions, and solve problems using logical and analytical thinking.\\n3. **Understand**: Comprehend natural language, perceive the environment, and recognize patterns and relationships.\\n4. **Apply**: Use knowledge and skills to perform tasks, adapt to new situations, and transfer learning to new domains.\\n\\nThe goals of GenAI research are to create an AI system that can:\\n\\n1. **Mimic human cognition**: Replicate human thought processes, including reasoning, problem-solving, and decision-making.\\n2. **Excel in multiple domains**: Perform tasks across various domains, such as language, vision, hearing, and motor control.\\n3. **Learn from experience**: Improve performance over time through self-supervised learning, feedback, and adaptation.\\n\\nGenAI has the potential to revolutionize numerous fields, including:\\n\\n1. **Healthcare**: Personalized medicine, disease diagnosis, and treatment.\\n2. **Education**: Adaptive learning, intelligent tutoring, and automated grading.\\n3. **Finance**: Risk management, portfolio optimization, and trading.\\n4. **Transportation**: Autonomous vehicles, traffic management, and route optimization.\\n\\nHowever, developing GenAI is a challenging task, and researchers face significant hurdles, such as:\\n\\n1. **Complexity**: Creating an AI system that can understand and interact with the world in a human-like way.\\n2. **Data quality**: Ensuring that the data used to train GenAI is diverse, representative, and of high quality.\\n3. **Explainability**: Developing methods to interpret and understand the decisions made by GenAI.\\n4. **Ethics**: Addressing concerns around bias, fairness, and accountability in GenAI systems.\\n\\nWhile significant progress has been made in AI research, we are still far from achieving true GenAI. Current AI systems are typically designed for specific tasks, such as image recognition, natural language processing, or game playing, and are not yet capable of general-purpose reasoning and problem-solving.', additional_kwargs={}, response_metadata={'token_usage': {'completion_tokens': 478, 'prompt_tokens': 39, 'total_tokens': 517, 'completion_time': 1.7381818180000002, 'prompt_time': 0.003141935, 'queue_time': 0.053496615000000004, 'total_time': 1.741323753}, 'model_name': 'llama-3.3-70b-versatile', 'system_fingerprint': 'fp_3f3b593e33', 'finish_reason': 'stop', 'logprobs': None}, id='run--3389940a-5561-4829-a345-7f11a2378024-0', usage_metadata={'input_tokens': 39, 'output_tokens': 478, 'total_tokens': 517})"
      ]
     },
     "execution_count": 13,
     "metadata": {},
     "output_type": "execute_result"
    }
   ],
   "source": [
    "validation_model.invoke(\"what is genai\")"
   ]
  },
  {
   "cell_type": "code",
   "execution_count": 14,
   "id": "efaeb793",
   "metadata": {},
   "outputs": [],
   "source": [
    "from langchain_google_genai import ChatGoogleGenerativeAI\n",
    "llm_model=ChatGoogleGenerativeAI(model='gemini-1.5-flash')"
   ]
  },
  {
   "cell_type": "code",
   "execution_count": null,
   "id": "c255504b",
   "metadata": {},
   "outputs": [],
   "source": []
  },
  {
   "cell_type": "markdown",
   "id": "94af0f57",
   "metadata": {},
   "source": [
    "## Node, Router Setup"
   ]
  },
  {
   "cell_type": "code",
   "execution_count": 15,
   "id": "6b216ff1",
   "metadata": {},
   "outputs": [],
   "source": [
    "import operator\n",
    "from typing import List\n",
    "from pydantic import BaseModel,Field\n",
    "from langchain.prompts import PromptTemplate\n",
    "from typing import TypedDict,Annotated,Sequence\n",
    "from langchain_core.messages import BaseMessage\n",
    "from langchain_core.output_parsers import StrOutputParser\n",
    "from langchain_core.runnables import RunnablePassthrough"
   ]
  },
  {
   "cell_type": "code",
   "execution_count": 16,
   "id": "d7dd9aea",
   "metadata": {},
   "outputs": [],
   "source": [
    "class TopicSelection(BaseModel):\n",
    "    topic: str = Field(description=\"selected topic\")\n",
    "    reason: str = Field(description=\"reason behind the topic selection\")"
   ]
  },
  {
   "cell_type": "code",
   "execution_count": 17,
   "id": "79a2449b",
   "metadata": {},
   "outputs": [],
   "source": [
    "from langchain.output_parsers import PydanticOutputParser\n",
    "parser = PydanticOutputParser(pydantic_object=TopicSelection)"
   ]
  },
  {
   "cell_type": "code",
   "execution_count": 18,
   "id": "1b726d57",
   "metadata": {},
   "outputs": [],
   "source": [
    "class AgentState(TypedDict):\n",
    "    messages: Annotated[Sequence[BaseMessage],operator.add]"
   ]
  },
  {
   "cell_type": "code",
   "execution_count": 19,
   "id": "f86bc9db",
   "metadata": {},
   "outputs": [],
   "source": [
    "def supervisor_node(state: AgentState):\n",
    "    print(\"--- Supervisor ---\")\n",
    "    user_query = state[\"messages\"][0]\n",
    "\n",
    "    template = \"\"\" Your task is to classify the user query into three of the following categories [Stock,Web,LLM].\n",
    "    Stock: if the user query is related to stock market then put it in this category.\n",
    "    Web: if the user query need web search then put it in this category.\n",
    "    LLM: If the user query can be answered using only LLM then put it in this category.\n",
    "\n",
    "    user_query: {user_query}\n",
    "    {format_instructions} \n",
    "    \"\"\"\n",
    "\n",
    "    prompt = PromptTemplate(\n",
    "        template=template,\n",
    "        input_variables=[\"user_query\"],\n",
    "        partial_variables={\"format_instructions\": parser.get_format_instructions()}\n",
    "    )\n",
    "\n",
    "    chain = prompt | llm_model | parser\n",
    "\n",
    "    response = chain.invoke({\"user_query\": user_query})\n",
    "    print(\"parsed response: \",response)\n",
    "\n",
    "    return {\"messages\": [response.topic]}"
   ]
  },
  {
   "cell_type": "code",
   "execution_count": 20,
   "id": "9cfbd721",
   "metadata": {},
   "outputs": [],
   "source": [
    "def format_docs(docs):\n",
    "    return \"\\n\\n\".join(doc.page_content for doc in docs)"
   ]
  },
  {
   "cell_type": "code",
   "execution_count": 21,
   "id": "868a91a7",
   "metadata": {},
   "outputs": [],
   "source": [
    "def rag_node(state: AgentState):\n",
    "    print(\"--- RAG ---\")\n",
    "    query = state[\"messages\"][0]\n",
    "\n",
    "    prompt=PromptTemplate(\n",
    "        template=\"\"\"You are an assistant for question-answering tasks. Use the following pieces of retrieved context to answer the question. \n",
    "            If you don't know the answer, just say that you don't know. Use three sentences maximum and keep the answer concise.\\nQuestion: {question} \\nContext: {context} \\nAnswer:\"\"\",\n",
    "        \n",
    "        input_variables=['context', 'question']\n",
    "    )\n",
    "\n",
    "    rag_chain = (\n",
    "        {\"context\": retriever | format_docs,\n",
    "         \"question\": RunnablePassthrough()}\n",
    "        | prompt\n",
    "        | llm_model\n",
    "        | StrOutputParser()\n",
    "    )\n",
    "\n",
    "    result = rag_chain.invoke(query)\n",
    "    return {\"messages\": [result]}"
   ]
  },
  {
   "cell_type": "code",
   "execution_count": 22,
   "id": "de21a3c7",
   "metadata": {},
   "outputs": [],
   "source": [
    "def web_node(state: AgentState):\n",
    "    print(\"--- WEB ---\")\n",
    "    query = state[\"messages\"][0]\n",
    "\n",
    "    response = search_tool.invoke(query)\n",
    "\n",
    "    return {\"messages\": [response]}"
   ]
  },
  {
   "cell_type": "code",
   "execution_count": 23,
   "id": "52c5a7f3",
   "metadata": {},
   "outputs": [],
   "source": [
    "def llm_node(state: AgentState):\n",
    "    print(\"--- LLM ---\")\n",
    "    query = state[\"messages\"][0]\n",
    "    complete_query = \"Anwer the follow question with you knowledge of the real world. Following is the user question: \" + query\n",
    "    response = llm_model.invoke(complete_query)\n",
    "    return {\"messages\": [response.content]}"
   ]
  },
  {
   "cell_type": "code",
   "execution_count": 24,
   "id": "96f82dee",
   "metadata": {},
   "outputs": [],
   "source": [
    "def validation_node(state: AgentState):\n",
    "    user_query = state[\"messages\"][0]\n",
    "    system_response = state[\"messages\"][-1]\n",
    "\n",
    "    template = \"\"\" You are a validator for my ai agent, your task is to compare the user query with the system response and check for the relevancy \n",
    "    between the user query and system response and provide a score between 0-10. Keep the threshold value at 7, if the value is above or equal to 7 \n",
    "    then produce result as approved or else denied. \n",
    "    Note: your output should be either approved or Denied\n",
    "    user query = {user_query}\n",
    "    system response = {system_response}\n",
    "    \"\"\"\n",
    "\n",
    "    prompt = PromptTemplate(\n",
    "        template=template,\n",
    "        input_variable=[\"user_query\",\"system_response\"]\n",
    "    )\n",
    "\n",
    "    chain = prompt | validation_model \n",
    "    res = None\n",
    "    try:\n",
    "        response = chain.invoke({\"user_query\": user_query, \"system_response\": system_response})\n",
    "        res = \"Approved\" if \"approved\" in response.content.lower() else \"Denied\"\n",
    "    except Exception as e:\n",
    "        print(\"Validation failed:\", e)\n",
    "        res = \"Denied\"\n",
    "\n",
    "    return {\"messages\": [res]}\n",
    "    "
   ]
  },
  {
   "cell_type": "code",
   "execution_count": 25,
   "id": "e02655f0",
   "metadata": {},
   "outputs": [],
   "source": [
    "def router(state: AgentState):\n",
    "    print(\"--- Router ---\")\n",
    "\n",
    "    last_message = state[\"messages\"][-1]\n",
    "    print(\"last message: \",last_message)\n",
    "\n",
    "    if \"stock\" in last_message.lower():\n",
    "        return \"RAG call\"\n",
    "    elif \"web\" in last_message.lower():\n",
    "        return \"WEB call\"\n",
    "    else:\n",
    "        return \"LLM call\""
   ]
  },
  {
   "cell_type": "code",
   "execution_count": 26,
   "id": "cc8a7fbc",
   "metadata": {},
   "outputs": [],
   "source": [
    "def validation_router(state: AgentState):\n",
    "    print(\"--- Validation Router ---\")\n",
    "\n",
    "    last_message = state[\"messages\"][-1]\n",
    "    print(\"Validation report: \",last_message)\n",
    "\n",
    "    if \"approved\" in last_message.lower():\n",
    "        return \"Approved\"\n",
    "    else:\n",
    "        return \"Denied\"\n",
    "\n"
   ]
  },
  {
   "cell_type": "code",
   "execution_count": 27,
   "id": "31116fb4",
   "metadata": {},
   "outputs": [],
   "source": [
    "def end_action(state):\n",
    "    final_answer = state[\"messages\"][2]\n",
    "    print(\"Final Answer: \",final_answer)\n",
    "    print(\"Workflow completed.\")\n",
    "    return {\"messages\": [state[\"messages\"][-1]]}"
   ]
  },
  {
   "cell_type": "markdown",
   "id": "54041186",
   "metadata": {},
   "source": [
    "## Graph Building"
   ]
  },
  {
   "cell_type": "code",
   "execution_count": 28,
   "id": "74e28b54",
   "metadata": {},
   "outputs": [],
   "source": [
    "from langgraph.graph import StateGraph,END\n",
    "\n",
    "workflow = StateGraph(AgentState)"
   ]
  },
  {
   "cell_type": "code",
   "execution_count": 29,
   "id": "b885fed9",
   "metadata": {},
   "outputs": [
    {
     "data": {
      "text/plain": [
       "<langgraph.graph.state.StateGraph at 0x18a3fdc0ad0>"
      ]
     },
     "execution_count": 29,
     "metadata": {},
     "output_type": "execute_result"
    }
   ],
   "source": [
    "workflow.add_node(\"Supervisor\",supervisor_node)\n",
    "workflow.add_node(\"RAG\",rag_node)\n",
    "workflow.add_node(\"WEB\",web_node)\n",
    "workflow.add_node(\"LLM\",llm_node)\n",
    "workflow.add_node(\"Validation\",validation_node)"
   ]
  },
  {
   "cell_type": "code",
   "execution_count": 30,
   "id": "4aaef567",
   "metadata": {},
   "outputs": [
    {
     "data": {
      "text/plain": [
       "<langgraph.graph.state.StateGraph at 0x18a3fdc0ad0>"
      ]
     },
     "execution_count": 30,
     "metadata": {},
     "output_type": "execute_result"
    }
   ],
   "source": [
    "workflow.add_node(\"END\",end_action)"
   ]
  },
  {
   "cell_type": "code",
   "execution_count": 31,
   "id": "6b600209",
   "metadata": {},
   "outputs": [
    {
     "data": {
      "text/plain": [
       "<langgraph.graph.state.StateGraph at 0x18a3fdc0ad0>"
      ]
     },
     "execution_count": 31,
     "metadata": {},
     "output_type": "execute_result"
    }
   ],
   "source": [
    "workflow.set_entry_point(\"Supervisor\")"
   ]
  },
  {
   "cell_type": "code",
   "execution_count": 32,
   "id": "39ff7eda",
   "metadata": {},
   "outputs": [
    {
     "data": {
      "text/plain": [
       "<langgraph.graph.state.StateGraph at 0x18a3fdc0ad0>"
      ]
     },
     "execution_count": 32,
     "metadata": {},
     "output_type": "execute_result"
    }
   ],
   "source": [
    "workflow.add_conditional_edges(\n",
    "    \"Supervisor\",\n",
    "    router,\n",
    "    {\n",
    "        \"RAG call\": \"RAG\",\n",
    "        \"LLM call\": \"LLM\",\n",
    "        \"WEB call\": \"WEB\"\n",
    "    }\n",
    ")"
   ]
  },
  {
   "cell_type": "code",
   "execution_count": 33,
   "id": "910cbd95",
   "metadata": {},
   "outputs": [
    {
     "data": {
      "text/plain": [
       "<langgraph.graph.state.StateGraph at 0x18a3fdc0ad0>"
      ]
     },
     "execution_count": 33,
     "metadata": {},
     "output_type": "execute_result"
    }
   ],
   "source": [
    "workflow.add_edge(\"LLM\",\"Validation\")\n",
    "workflow.add_edge(\"RAG\",\"Validation\")\n",
    "workflow.add_edge(\"WEB\",\"Validation\")"
   ]
  },
  {
   "cell_type": "code",
   "execution_count": 34,
   "id": "ea075557",
   "metadata": {},
   "outputs": [
    {
     "data": {
      "text/plain": [
       "<langgraph.graph.state.StateGraph at 0x18a3fdc0ad0>"
      ]
     },
     "execution_count": 34,
     "metadata": {},
     "output_type": "execute_result"
    }
   ],
   "source": [
    "workflow.add_conditional_edges(\n",
    "    \"Validation\",\n",
    "    validation_router,\n",
    "    {\n",
    "        \"Approved\": \"END\",\n",
    "        \"Denied\": \"Supervisor\"\n",
    "    }\n",
    ")"
   ]
  },
  {
   "cell_type": "code",
   "execution_count": 35,
   "id": "962bd2de",
   "metadata": {},
   "outputs": [
    {
     "data": {
      "image/png": "[encoded data removed]",
      "text/plain": [
       "<langgraph.graph.state.CompiledStateGraph object at 0x0000018A3FDC0D70>"
      ]
     },
     "execution_count": 35,
     "metadata": {},
     "output_type": "execute_result"
    }
   ],
   "source": [
    "app = workflow.compile()\n",
    "app"
   ]
  },
  {
   "cell_type": "code",
   "execution_count": 36,
   "id": "2e9ce900",
   "metadata": {},
   "outputs": [
    {
     "name": "stdout",
     "output_type": "stream",
     "text": [
      "--- Supervisor ---\n",
      "parsed response:  topic='LLM' reason='The query \"hi\" is a simple greeting that does not require stock market data, web search, or complex reasoning; an LLM can handle it by providing a simple response like \"Hello!\"'\n",
      "--- Router ---\n",
      "last message:  LLM\n",
      "--- LLM ---\n",
      "--- Validation Router ---\n",
      "Validation report:  Approved\n",
      "Final Answer:  Hi there!\n",
      "Workflow completed.\n"
     ]
    },
    {
     "data": {
      "text/plain": [
       "{'messages': ['hi', 'LLM', 'Hi there!', 'Approved', 'Approved']}"
      ]
     },
     "execution_count": 36,
     "metadata": {},
     "output_type": "execute_result"
    }
   ],
   "source": [
    "state={\"messages\": [\"hi\"]}\n",
    "app.invoke(state)"
   ]
  },
  {
   "cell_type": "code",
   "execution_count": 39,
   "id": "146f0ddb",
   "metadata": {},
   "outputs": [
    {
     "name": "stdout",
     "output_type": "stream",
     "text": [
      "--- Supervisor ---\n",
      "parsed response:  topic='Web' reason=\"The query 'latest global news?' requires accessing and processing information from various news sources, which necessitates a web search.\"\n",
      "--- Router ---\n",
      "last message:  Web\n",
      "--- WEB ---\n",
      "--- Validation Router ---\n",
      "Validation report:  Approved\n",
      "Final Answer:  Reuters.com is your online source for the latest world news stories and current events, ensuring our readers up to date with any breaking news developments Get the latest international news and world events from Asia, Europe, the Middle East, and more. See world news photos and videos at ABCNews.com NPR world news, international art and culture, world business and financial markets, world economy, and global trends in health, science and technology. Subscribe to the World Story of the Day ... The New York Times seeks the truth and helps people understand the world. With 1,700 journalists reporting from more than 150 countries, we provide live updates, investigations, photos and video ... World News: Get Latest and breaking news from World. Today's Top International News Headlines, news on politics, Business, Crime, Sports and Current Affairs.\n",
      "Workflow completed.\n"
     ]
    },
    {
     "data": {
      "text/plain": [
       "{'messages': ['latest global news?',\n",
       "  'Web',\n",
       "  \"Reuters.com is your online source for the latest world news stories and current events, ensuring our readers up to date with any breaking news developments Get the latest international news and world events from Asia, Europe, the Middle East, and more. See world news photos and videos at ABCNews.com NPR world news, international art and culture, world business and financial markets, world economy, and global trends in health, science and technology. Subscribe to the World Story of the Day ... The New York Times seeks the truth and helps people understand the world. With 1,700 journalists reporting from more than 150 countries, we provide live updates, investigations, photos and video ... World News: Get Latest and breaking news from World. Today's Top International News Headlines, news on politics, Business, Crime, Sports and Current Affairs.\",\n",
       "  'Approved',\n",
       "  'Approved']}"
      ]
     },
     "execution_count": 39,
     "metadata": {},
     "output_type": "execute_result"
    }
   ],
   "source": [
    "state={\"messages\": [\"latest global news?\"]}\n",
    "app.invoke(state)"
   ]
  },
  {
   "cell_type": "code",
   "execution_count": 38,
   "id": "4177dba0",
   "metadata": {},
   "outputs": [
    {
     "name": "stdout",
     "output_type": "stream",
     "text": [
      "--- Supervisor ---\n",
      "parsed response:  topic='Stock' reason='The \"hanging man pattern\" is a candlestick pattern used in technical analysis of stock charts.'\n",
      "--- Router ---\n",
      "last message:  Stock\n",
      "--- RAG ---\n",
      "--- Validation Router ---\n",
      "Validation report:  Approved\n",
      "Final Answer:  A hanging man is a one-candle candlestick pattern that appears during an uptrend.  It has a long lower shadow and a small real body, which can be black or white, signifying a potential top reversal needing confirmation.  Confirmation typically requires a higher open and close the following trading day.\n",
      "Workflow completed.\n"
     ]
    },
    {
     "data": {
      "text/plain": [
       "{'messages': ['what is hanging man pattern',\n",
       "  'Stock',\n",
       "  'A hanging man is a one-candle candlestick pattern that appears during an uptrend.  It has a long lower shadow and a small real body, which can be black or white, signifying a potential top reversal needing confirmation.  Confirmation typically requires a higher open and close the following trading day.',\n",
       "  'Approved',\n",
       "  'Approved']}"
      ]
     },
     "execution_count": 38,
     "metadata": {},
     "output_type": "execute_result"
    }
   ],
   "source": [
    "state={\"messages\": [\"what is hanging man pattern\"]}\n",
    "app.invoke(state)"
   ]
  }
 ],
 "metadata": {
  "kernelspec": {
   "display_name": "Python 3",
   "language": "python",
   "name": "python3"
  },
  "language_info": {
   "codemirror_mode": {
    "name": "ipython",
    "version": 3
   },
   "file_extension": ".py",
   "mimetype": "text/x-python",
   "name": "python",
   "nbconvert_exporter": "python",
   "pygments_lexer": "ipython3",
   "version": "3.13.0"
  }
 },
 "nbformat": 4,
 "nbformat_minor": 5
}
