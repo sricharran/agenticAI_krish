{
 "cells": [
  {
   "cell_type": "code",
   "execution_count": 1,
   "id": "ae42ef98",
   "metadata": {},
   "outputs": [
    {
     "name": "stdout",
     "output_type": "stream",
     "text": [
      "name='charran' age=21 city='salem'\n"
     ]
    }
   ],
   "source": [
    "from pydantic import BaseModel\n",
    "\n",
    "class Person(BaseModel):\n",
    "    name: str\n",
    "    age: int\n",
    "    city: str\n",
    "\n",
    "person = Person(name=\"charran\", age=21, city=\"salem\")\n",
    "print(person)"
   ]
  },
  {
   "cell_type": "code",
   "execution_count": 6,
   "id": "b5c7a6cc",
   "metadata": {},
   "outputs": [
    {
     "name": "stdout",
     "output_type": "stream",
     "text": [
      "emp_id=101 name='charran' address=Address(city='salem', state='tamlnadu', zipcode='636103')\n"
     ]
    }
   ],
   "source": [
    "class Address(BaseModel):\n",
    "    city:str\n",
    "    state:str\n",
    "    zipcode:str\n",
    "\n",
    "class Employee(BaseModel):\n",
    "    emp_id:int\n",
    "    name:str\n",
    "    address: Address\n",
    "\n",
    "emp = Employee(emp_id=101,name=\"charran\",address={\n",
    "    \"city\": \"salem\", \"state\": \"tamlnadu\", \"zipcode\": \"636103\"\n",
    "})\n",
    "\n",
    "print(emp)"
   ]
  },
  {
   "cell_type": "code",
   "execution_count": null,
   "id": "8a7be3ef",
   "metadata": {},
   "outputs": [],
   "source": []
  }
 ],
 "metadata": {
  "kernelspec": {
   "display_name": "Python 3",
   "language": "python",
   "name": "python3"
  },
  "language_info": {
   "codemirror_mode": {
    "name": "ipython",
    "version": 3
   },
   "file_extension": ".py",
   "mimetype": "text/x-python",
   "name": "python",
   "nbconvert_exporter": "python",
   "pygments_lexer": "ipython3",
   "version": "3.13.0"
  }
 },
 "nbformat": 4,
 "nbformat_minor": 5
}
