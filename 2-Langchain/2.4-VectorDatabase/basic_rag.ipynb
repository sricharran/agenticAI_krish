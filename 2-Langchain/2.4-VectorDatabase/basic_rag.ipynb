{
 "cells": [
  {
   "cell_type": "code",
   "execution_count": 1,
   "id": "116feb08",
   "metadata": {},
   "outputs": [
    {
     "data": {
      "text/plain": [
       "True"
      ]
     },
     "execution_count": 1,
     "metadata": {},
     "output_type": "execute_result"
    }
   ],
   "source": [
    "import os\n",
    "from dotenv import load_dotenv\n",
    "load_dotenv()"
   ]
  },
  {
   "cell_type": "code",
   "execution_count": 2,
   "id": "65c5d703",
   "metadata": {},
   "outputs": [],
   "source": [
    "os.environ[\"GROQ_API_KEY\"]=os.getenv(\"GROQ_API_KEY\")\n",
    "\n",
    "## Langsmith Tracking And Tracing\n",
    "os.environ[\"LANGCHAIN_API_KEY\"]=os.getenv(\"LANGCHAIN_API_KEY\")\n",
    "os.environ[\"LANGCHAIN_PROJECT\"]=os.getenv(\"LANGCHAIN_PROJECT\")\n",
    "\n",
    "os.environ[\"LANGCHAIN_TRACING_V2\"]=\"true\""
   ]
  },
  {
   "cell_type": "code",
   "execution_count": 3,
   "id": "4fa6d91b",
   "metadata": {},
   "outputs": [],
   "source": [
    "os.environ['HF_TOKEN']=os.getenv(\"HF_TOKEN\")"
   ]
  },
  {
   "cell_type": "code",
   "execution_count": 4,
   "id": "cf25855f",
   "metadata": {},
   "outputs": [],
   "source": [
    "from langchain_community.document_loaders import PyPDFLoader\n",
    "from langchain_text_splitters import RecursiveCharacterTextSplitter\n",
    "from langchain_core.output_parsers import StrOutputParser\n",
    "from langchain_core.runnables import RunnablePassthrough"
   ]
  },
  {
   "cell_type": "code",
   "execution_count": 5,
   "id": "1452b981",
   "metadata": {},
   "outputs": [
    {
     "name": "stderr",
     "output_type": "stream",
     "text": [
      "d:\\Agentic_AI\\venv\\Lib\\site-packages\\tqdm\\auto.py:21: TqdmWarning: IProgress not found. Please update jupyter and ipywidgets. See https://ipywidgets.readthedocs.io/en/stable/user_install.html\n",
      "  from .autonotebook import tqdm as notebook_tqdm\n"
     ]
    }
   ],
   "source": [
    "from langchain_huggingface import HuggingFaceEmbeddings\n",
    "embedding = HuggingFaceEmbeddings(model_name=\"all-mpnet-base-v2\")"
   ]
  },
  {
   "cell_type": "code",
   "execution_count": 6,
   "id": "84798831",
   "metadata": {},
   "outputs": [],
   "source": [
    "FILE_PATH = r\"D:\\Agentic_AI\\2-Langchain\\2.4-VectorDatabase\\1 Dynamic weighted hypergraph convolutional network for brain functional (1).pdf\""
   ]
  },
  {
   "cell_type": "code",
   "execution_count": 7,
   "id": "07209516",
   "metadata": {},
   "outputs": [],
   "source": [
    "loader = PyPDFLoader(FILE_PATH)"
   ]
  },
  {
   "cell_type": "code",
   "execution_count": 8,
   "id": "a60c9207",
   "metadata": {},
   "outputs": [
    {
     "data": {
      "text/plain": [
       "13"
      ]
     },
     "execution_count": 8,
     "metadata": {},
     "output_type": "execute_result"
    }
   ],
   "source": [
    "pages=loader.load()\n",
    "len(pages)"
   ]
  },
  {
   "cell_type": "code",
   "execution_count": 9,
   "id": "6deb76ea",
   "metadata": {},
   "outputs": [],
   "source": [
    "splitter = RecursiveCharacterTextSplitter(chunk_size = 500, chunk_overlap = 50)\n",
    "split_docs = splitter.split_documents(pages)"
   ]
  },
  {
   "cell_type": "code",
   "execution_count": 10,
   "id": "a3dee1cb",
   "metadata": {},
   "outputs": [],
   "source": [
    "import faiss\n",
    "from langchain_community.vectorstores import FAISS\n",
    "from langchain_community.docstore.in_memory import InMemoryDocstore"
   ]
  },
  {
   "cell_type": "code",
   "execution_count": 15,
   "id": "e7f24150",
   "metadata": {},
   "outputs": [],
   "source": [
    "index = faiss.IndexHNSWFlat(768,10)"
   ]
  },
  {
   "cell_type": "code",
   "execution_count": 16,
   "id": "f740b76e",
   "metadata": {},
   "outputs": [],
   "source": [
    "vector_store=FAISS(\n",
    "    embedding_function=embedding,\n",
    "    index=index,\n",
    "    docstore=InMemoryDocstore(),\n",
    "    index_to_docstore_id={},\n",
    ")"
   ]
  },
  {
   "cell_type": "code",
   "execution_count": 17,
   "id": "21537b7c",
   "metadata": {},
   "outputs": [
    {
     "data": {
      "text/plain": [
       "['cb0000de-2b37-4afd-8834-0fea4254874b',\n",
       " 'c2349165-628a-4e71-a5f2-ec253a90d08e',\n",
       " '925e1a2b-88f5-4b5a-b629-1f62dbb2fe2d',\n",
       " 'da7cdf63-5c53-4f35-b895-1a592f376c4d',\n",
       " 'f81f6b76-383c-48ae-bd74-8e4dbbb71800',\n",
       " '1068a62c-3a36-4eeb-b202-ffaf022857f4',\n",
       " '509f51a7-fc7a-4f76-aa3b-a340582f5f00',\n",
       " '21d80b78-5446-441b-9f60-32c5d14ca8fe',\n",
       " 'f4b4fece-df85-4b7f-a51f-fdc28457468d',\n",
       " '9b826cbd-3fd5-429d-988f-837547e845ff',\n",
       " '4a2bea5b-5149-4619-ad19-39744cbe44ed',\n",
       " '4212e91a-bf0f-4767-aa43-5a7058771941',\n",
       " 'c79615f4-4751-449b-848b-3153020f701a',\n",
       " '50791e9b-4132-442d-bd39-79d559a5bac6',\n",
       " 'b04f11c4-9d25-49c2-bb68-d38aa70809b6',\n",
       " 'f3b41a97-95c9-4a1b-bea8-4117fa087c98',\n",
       " '25c801c4-5d7d-4cc0-8d16-164bcc5b06ba',\n",
       " '670c601e-3623-4d91-b043-0a4e8e4c26b9',\n",
       " 'da2ffe7a-1e51-4415-89ef-608b708386fc',\n",
       " 'dbecac66-711d-44a3-aa33-51ce0eb9ae47',\n",
       " '22c8467c-93f4-414d-b661-6a442ec2a012',\n",
       " 'a1bca1ad-97f4-4f21-bba5-d24f13631ef0',\n",
       " '16bfb0d7-3057-4b50-8b71-f7405b2d9758',\n",
       " '010eff67-8533-4d35-8a76-a8fc1a81d428',\n",
       " '58669a4b-daef-4764-9f32-2889b4ea797b',\n",
       " '8c0f97f6-6634-46af-9f69-8b8f7a517e7b',\n",
       " 'e8949505-79ea-498d-85a4-88410fdd9dad',\n",
       " '5f33e58d-d3f2-44ec-9bff-0fe586d7a105',\n",
       " '0ae2e475-3785-4372-a9dc-5e06c33c2de1',\n",
       " '656023a2-6ec0-4166-b0c8-0e0660b78196',\n",
       " '9c09d0b6-b9f5-48dd-9767-6f73cf38800e',\n",
       " 'e72b50eb-3e9f-446a-a226-551d19ee648a',\n",
       " '388948d9-a952-4bab-97ac-b1c15e6cfa7d',\n",
       " '83c7bccc-1605-4f6d-8e32-d2097b479846',\n",
       " '2001e7ac-91ab-43e5-a610-e782c89520ff',\n",
       " 'a89d5691-1bc4-498e-92e9-1e6bc73cd7f8',\n",
       " '07d45d26-8a25-4b3a-a810-6e4082a23f46',\n",
       " 'cdbb1e22-1d38-49d8-9ffc-7169a326c006',\n",
       " '8371e01d-7875-4fd2-b256-fc5e75c5f9c6',\n",
       " 'f621ea0c-0414-4e3a-8738-0de2d7804d2f',\n",
       " '76bb914b-8ed4-4fba-b56f-d0c21b8ca893',\n",
       " '52300c0e-9b86-4502-be70-db249da279d6',\n",
       " '9f1950e9-d135-4ae1-a5a8-f5595a5185a2',\n",
       " '66a18af6-1e57-4013-8720-8c1e70d96fba',\n",
       " '3e36e9a8-2e02-4f34-a5e0-f27c99fcdc83',\n",
       " 'e7d8811e-d45f-4e0c-b368-0ed9b0ba59a2',\n",
       " '16b7fd29-e3ed-488d-90af-73f66d9d9a8d',\n",
       " '89bf4bee-2e9b-47fd-9fcd-d611963940c4',\n",
       " '82af027f-8b3d-4053-b99d-9d25f57b186c',\n",
       " '8da0ab88-a470-4d46-b7ac-a92b8f7bb273',\n",
       " '1efd4d49-b68b-468b-8f1a-7845e158fa9f',\n",
       " '6b7a6e5c-69c7-4734-bfbd-8b91f81496ea',\n",
       " '247f9dfe-f90b-41b1-b103-589f88de66a1',\n",
       " 'f4884ad1-c51e-4313-b843-f1bac833235a',\n",
       " '4a25c132-ec3d-4f27-8b3f-dae8acf54c53',\n",
       " '90f797fc-6554-4443-a7c4-70cea5ff9a96',\n",
       " '85a3e78c-e92d-4743-a9db-e9109b49194e',\n",
       " 'f99e283d-8102-4b56-9a01-813ee1f31465',\n",
       " '87ed66a4-f8c6-4cdf-87c2-dfab8c8b4391',\n",
       " '3b03e475-138a-4471-8f34-3776550775ce',\n",
       " 'e9ae0afe-e4ed-4fee-b743-416514ea7a98',\n",
       " '2f9c05ec-c72d-4b44-81e0-e4f8a549a883',\n",
       " 'ef7753fa-90e0-450f-8d40-0bd891506874',\n",
       " '98b766c1-2e6e-451c-a3cb-bcd7a697fc2f',\n",
       " '27249a9c-32d2-41c7-88ae-a374040a2ce6',\n",
       " '699049d8-1697-4f18-8e96-e590da558dd5',\n",
       " 'cfc1a349-4788-4021-85e3-f448d2a01dd8',\n",
       " '219e0794-59c4-4b24-a452-76b57105dbee',\n",
       " 'eb8fcef8-8672-47a1-9d34-51ebaa06386e',\n",
       " 'cfeb09a8-9bb0-4289-b886-6e9e8baa3dfc',\n",
       " '6507b226-1d77-481a-b4a3-231c6e3a05a0',\n",
       " '78c49c2e-edd4-480b-81da-0eecbba9139a',\n",
       " 'b9e5464c-a189-4995-88ef-ebb578b6e231',\n",
       " 'c0fb6a25-04f4-4e9d-97e1-f1d544298ce1',\n",
       " '86c75107-9dda-4590-9c35-47e348785aa0',\n",
       " 'd2391d34-9f35-4ec8-8f2e-023e1e288f11',\n",
       " 'fdcc5768-e342-4e29-9a9e-9fb0939124c4',\n",
       " '1147555b-02ce-4ab1-811d-146bb20cf7f1',\n",
       " '1c3bc210-382f-4f74-b945-2b3794290c6b',\n",
       " '1a5ec09b-59fb-4c1b-9d09-77dd8192369b',\n",
       " '119f67ab-b6cf-41cb-99e5-8fee0df577e5',\n",
       " 'c898091a-d90f-4797-a00e-91c51b5a0878',\n",
       " '10ba86af-54f6-4179-a17d-bd092ea4e1b1',\n",
       " '478fb3c7-f1a9-43b4-b79a-4f666a41f346',\n",
       " 'c460883f-d04c-4885-9d89-b8b6566201ec',\n",
       " 'ccba70a3-aea9-4fa9-b0c9-c4f51427039e',\n",
       " '4cdfdb30-d3bd-4b26-8dad-9e5f0a02bd2e',\n",
       " '284b583c-4db3-40d8-8489-de6a019ad3e4',\n",
       " '9c7e9997-67f2-4dc6-8d22-893be1f3f01e',\n",
       " '8d4cfa78-ba84-4b3a-a676-676c0a0b7b53',\n",
       " '2c4172c0-2351-4ed0-88f0-259562b4f950',\n",
       " 'af8bed96-88a5-46e9-8860-7b6228b9b6c1',\n",
       " 'b87e109c-05a9-4891-8d99-f8298ff52747',\n",
       " 'e9af400b-3b62-404d-a860-77bdc5890d8a',\n",
       " 'a8e86e42-084d-4259-aaa1-549d420c0775',\n",
       " '12e47fd7-1365-4e3f-8876-57fd6df158f6',\n",
       " 'f6bf81e5-2d71-4cb8-822b-5cb62ffe7212',\n",
       " 'aa7bc8a0-5f34-4b05-9256-44b2b876ed4f',\n",
       " '37a6f0c0-aaba-4e72-b591-9f6b176b9e94',\n",
       " '9d44891a-6176-4040-8579-2a2ef5e96745',\n",
       " '97d23270-b40f-44f1-bcd0-a8279da98a98',\n",
       " '3e7cdae9-b87e-4b66-a389-79145ea77bac',\n",
       " '3536e500-c4c4-4813-8b23-3caa578d78b9',\n",
       " '44afaa16-5971-4f5e-b042-435a7930b9f2',\n",
       " 'c9ad9bbf-aae5-4650-9b76-cebce9d4c44c',\n",
       " 'b8cfb543-9910-43ab-b0e4-d7fcf032180a',\n",
       " 'ecc160c7-6479-47ae-8c48-651e7f11e8fa',\n",
       " '16cf0f46-4246-4d19-9e0e-39e4d7f00d6a',\n",
       " '170ae826-293c-4dfa-95f9-380169d1d2e6',\n",
       " 'f5afcdd5-e31c-4246-9714-123d50b05cd4',\n",
       " 'a1db4680-eb4c-4c2e-8eb7-14b088eb5489',\n",
       " '0e6206df-f763-4884-a396-b4f28825cdb9',\n",
       " '78ba989c-b284-4ead-9619-b854afa8dc0e',\n",
       " '5fcef1bf-306a-42a9-aa18-dd0b6dd0f5c4',\n",
       " '4756725c-6585-4847-ae9c-1138a0605233',\n",
       " 'fa49fe50-fe8e-4012-815f-e7608df8784b',\n",
       " '9c953e32-9076-4061-baca-916a38a4a35c',\n",
       " '2569fe5f-c54f-4ebe-929c-9637007189e6',\n",
       " 'd51f58f7-4f85-4dbb-bad9-f8df1a26feb4',\n",
       " '1ffccc64-ae4b-4ce6-a6e0-6ba8e662cccf',\n",
       " '8a7e79ef-2cc7-4500-90a1-58cfe160bc8f',\n",
       " '6f8ecb12-7721-441a-a98e-cbc18d9ae8cb',\n",
       " 'db968a98-d157-41f2-add1-f45728221fc6',\n",
       " 'bd2df8a3-8b24-469e-853b-57c215a3d725',\n",
       " 'a0127943-e515-4d0f-be36-3138672cd6ec',\n",
       " '6242a99a-e67f-472b-981d-dc261904dd47',\n",
       " '421d0645-73fd-48a9-bc63-97b453df658e',\n",
       " '123c6e6c-e7e9-4ecd-8b5a-ef0d027ff6be',\n",
       " '88027acc-2913-4332-8d92-f8358c25485a',\n",
       " 'c0cecfb5-8230-4adb-8e47-92d7def09748',\n",
       " 'cbc7b35f-d9a6-4d0a-b5e5-14c4bb39b7ec',\n",
       " 'dfa5e599-67f2-473a-991f-681b3bad821e',\n",
       " '914227ce-f712-4aa7-9c51-e4f748a38ae4',\n",
       " 'dc1c3b8d-06e1-4e32-884b-ec11cc9d52f2',\n",
       " '3001a4bf-969c-4ee2-b8a8-55b30e6f7a31',\n",
       " 'f9913e6d-9843-4aea-b494-facb907cddbf',\n",
       " '5a7e1b9e-862b-4b45-b442-620c85d76723',\n",
       " '7d0ad8fe-83df-4d2b-9ac3-dada616162ee',\n",
       " '4ea9e90e-9c59-471a-87c5-eaf181d143dd',\n",
       " '0d98dd1a-c9da-4215-bcd2-a5c6eb68a81a',\n",
       " 'a91412f8-f5b7-4757-93d3-51e057889bef',\n",
       " '68daf215-849e-404d-8569-3f624b9af8d7',\n",
       " 'b35bd206-b6ad-4fcd-b076-0043de84fb65',\n",
       " 'e6ab05ac-8c62-4358-b0f4-ee46426a768b',\n",
       " '0755bb23-843d-45c9-8813-f3904e622a79',\n",
       " '3bf04f82-6dfb-4b74-8f4b-0752f915b8b9',\n",
       " '493a90a4-1299-4705-b8e4-978af835a7dc',\n",
       " 'e6c90445-97cb-4be0-80a3-085557f2ab81',\n",
       " '8c5d4a19-68a5-4077-8b64-00fef22453d1',\n",
       " '5cba34eb-f38a-4cde-8b07-c15aa12d4b92',\n",
       " 'd2e53aff-3b18-488c-ab94-a68138c45383',\n",
       " '0f741dae-8cde-4295-9d15-da078cef5648',\n",
       " 'cbae127d-e7eb-40e5-9887-f4aeb7ee1514',\n",
       " '7a09020a-b421-4951-8f51-ffb760501e09',\n",
       " '3c06e331-3754-45bb-b87e-7391633ad287',\n",
       " 'f250e4d2-9ff0-4f2d-9845-bee824c669b9',\n",
       " 'ace1da21-637f-4692-aa7c-6172ba6548bc',\n",
       " '1f72e550-86b3-4fa1-ad5f-b5b645e7dec0',\n",
       " 'd30387e5-761d-4e7c-ad2a-04d633b4129f',\n",
       " '5b8b8484-1b44-4601-bdd5-880fe3647b95',\n",
       " '5ec909ab-d7f3-4a28-9423-6331921bb808',\n",
       " '57c55836-f774-4b82-a18e-10611c9e465f',\n",
       " '4c7d6e75-e9d8-4422-941f-a2ed180808dd',\n",
       " '882917d0-5f45-4d79-a86a-1debde6b852a',\n",
       " '7a3ca838-b842-404d-97d4-860e1b39facb',\n",
       " '01d87e3f-1b45-41f4-9613-575642cb39b5',\n",
       " '02dab926-2884-47a4-bf4d-006c5152ebf7',\n",
       " '3710a391-c35b-4996-8a40-3621beb624a7',\n",
       " 'ce085dd1-3652-41e3-8ffe-88d94aaa9c0c']"
      ]
     },
     "execution_count": 17,
     "metadata": {},
     "output_type": "execute_result"
    }
   ],
   "source": [
    "vector_store.add_documents(documents=split_docs)"
   ]
  },
  {
   "cell_type": "code",
   "execution_count": 18,
   "id": "85284169",
   "metadata": {},
   "outputs": [],
   "source": [
    "retriever=vector_store.as_retriever(\n",
    "    search_kwargs={\"k\": 10} #hyperparameter\n",
    ")"
   ]
  },
  {
   "cell_type": "code",
   "execution_count": 19,
   "id": "fa0f249e",
   "metadata": {},
   "outputs": [],
   "source": [
    "from langchain_groq import ChatGroq\n",
    "model=ChatGroq(model=\"llama-3.3-70b-versatile\")"
   ]
  },
  {
   "cell_type": "code",
   "execution_count": 20,
   "id": "28e950f6",
   "metadata": {},
   "outputs": [],
   "source": [
    "from langchain import hub\n",
    "prompt = hub.pull(\"rlm/rag-prompt\")"
   ]
  },
  {
   "cell_type": "code",
   "execution_count": 21,
   "id": "99a30248",
   "metadata": {},
   "outputs": [],
   "source": [
    "def format_docs(docs):\n",
    "    return \"\\n\\n\".join(doc.page_content for doc in docs)"
   ]
  },
  {
   "cell_type": "code",
   "execution_count": 22,
   "id": "7b1ae0de",
   "metadata": {},
   "outputs": [],
   "source": [
    "rag_chain = (\n",
    "    {\"context\": retriever | format_docs, \"question\": RunnablePassthrough()}\n",
    "    | prompt\n",
    "    | model\n",
    "    | StrOutputParser()\n",
    ")"
   ]
  },
  {
   "cell_type": "code",
   "execution_count": 26,
   "id": "abaa5f5d",
   "metadata": {},
   "outputs": [
    {
     "data": {
      "text/plain": [
       "'The model used in the paper is dwHGCN (dynamic weighted Hypergraph Convolutional Network). It is a hypergraph-based model that adaptively updates the hyperedge weights during training. The paper also compares the performance of dwHGCN with other models, including GAT, HGNN, and graph-based models like GCN and TAG.'"
      ]
     },
     "execution_count": 26,
     "metadata": {},
     "output_type": "execute_result"
    }
   ],
   "source": [
    "rag_chain.invoke(\"model used in the paper?\")"
   ]
  }
 ],
 "metadata": {
  "kernelspec": {
   "display_name": "Python 3",
   "language": "python",
   "name": "python3"
  },
  "language_info": {
   "codemirror_mode": {
    "name": "ipython",
    "version": 3
   },
   "file_extension": ".py",
   "mimetype": "text/x-python",
   "name": "python",
   "nbconvert_exporter": "python",
   "pygments_lexer": "ipython3",
   "version": "3.13.0"
  }
 },
 "nbformat": 4,
 "nbformat_minor": 5
}
